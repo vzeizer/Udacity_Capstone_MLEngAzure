{
  "cells": [
    {
      "cell_type": "markdown",
      "source": [
        "# Automated ML\n",
        "\n",
        "TODO: Import Dependencies. In the cell below, import all the dependencies that you will need to complete the project."
      ],
      "metadata": {}
    },
    {
      "cell_type": "code",
      "source": [
        "from azureml.core import Workspace, Experiment\n",
        "from azureml.data.dataset_factory import TabularDatasetFactory\n",
        "from train_raintomorrow import clean_data\n",
        "from azureml.core import Dataset\n",
        "from sklearn.model_selection import train_test_split\n",
        "import pandas as pd\n",
        "import os\n",
        "from azureml.widgets import RunDetails\n",
        "from azureml.core.compute import ComputeTarget, AmlCompute\n",
        "\n",
        "from azureml.train.automl import AutoMLConfig\n",
        "from azureml.pipeline.core import PipelineData, TrainingOutput\n",
        "from azureml.pipeline.core import Pipeline\n"
      ],
      "outputs": [],
      "execution_count": 1,
      "metadata": {
        "gather": {
          "logged": 1678100371797
        },
        "jupyter": {
          "outputs_hidden": false,
          "source_hidden": false
        },
        "nteract": {
          "transient": {
            "deleting": false
          }
        }
      }
    },
    {
      "cell_type": "markdown",
      "source": [
        "## Dataset\n",
        "\n",
        "### Overview\n",
        "TODO: In this markdown cell, give an overview of the dataset you are using. Also mention the task you will be performing.\n",
        "This AutoML experiment will be performed in order to investigate of *rain tomorrow* dataset. This dataset has xx columns and ... rows....\n",
        "\n",
        "TODO: Get data. In the cell below, write code to access the data you will be using in this project. Remember that the dataset needs to be external."
      ],
      "metadata": {}
    },
    {
      "cell_type": "code",
      "source": [
        "ws = Workspace.from_config()\n",
        "\n",
        "# choose a name for experiment\n",
        "experiment_name = 'automl-rain'\n",
        "\n",
        "experiment=Experiment(ws, experiment_name)\n",
        "\n",
        "print('Workspace name: ' + ws.name, \n",
        "      'Azure region: ' + ws.location, \n",
        "      'Subscription id: ' + ws.subscription_id, \n",
        "      'Resource group: ' + ws.resource_group, sep = '\\n')\n"
      ],
      "outputs": [
        {
          "output_type": "stream",
          "name": "stdout",
          "text": "Workspace name: coursera_paes\nAzure region: brazilsouth\nSubscription id: 90b94744-e13a-4ecb-a955-1cbb85261a5d\nResource group: defaultresourcegroup-brazilsouth\n"
        }
      ],
      "execution_count": 2,
      "metadata": {
        "gather": {
          "logged": 1678100377344
        },
        "jupyter": {
          "outputs_hidden": false,
          "source_hidden": false
        },
        "nteract": {
          "transient": {
            "deleting": false
          }
        }
      }
    },
    {
      "cell_type": "markdown",
      "source": [
        "# Create a Cluster"
      ],
      "metadata": {}
    },
    {
      "cell_type": "code",
      "source": [
        "\n",
        "#cluster_name = \"GIVE_A_CLUSTER_NAME\"\n",
        "cluster_name = \"vzeizer1\"\n",
        "\n",
        "# TODO: Create compute cluster\n",
        "# Use vm_size = \"Standard_D2_V2\" in your provisioning configuration.\n",
        "# max_nodes should be no greater than 4.\n",
        "\n",
        "### YOUR CODE HERE ###\n",
        "\n",
        "try:\n",
        "    cpu_cluster=ComputeTarget(workspace=ws,name=cluster_name)\n",
        "    print('Cluster already exists!')\n",
        "except:\n",
        "    compute_config = AmlCompute.provisioning_configuration(vm_size=\"Standard_D2_V2\",max_nodes=4)\n",
        "    cpu_cluster = ComputeTarget(ws,cluster_name,compute_config)\n",
        "cpu_cluster.wait_for_completion(show_output=True)"
      ],
      "outputs": [
        {
          "output_type": "stream",
          "name": "stdout",
          "text": "Cluster already exists!\n\nRunning\n"
        }
      ],
      "execution_count": 3,
      "metadata": {
        "gather": {
          "logged": 1678100385239
        }
      }
    },
    {
      "cell_type": "code",
      "source": [
        "#path='https://automlsamplenotebookdata.blob.core.windows.net/automl-sample-notebook-data/bankmarketing_train.csv'\n",
        "path='https://raw.githubusercontent.com/vzeizer/Udacity_Capstone_MLEngAzure/master/weatherAUS.csv'\n",
        "data_rain=TabularDatasetFactory.from_delimited_files(path)\n",
        "\n",
        "if \"training\" not in os.listdir():\n",
        "    os.mkdir(\"./training\")\n",
        "\n",
        "# I won't clean the data because I will enable featurization\n",
        "\n",
        "#x, y = clean_data(data_rain)### YOUR DATA OBJECT HERE ###\n",
        "\n",
        "# split into train and test data\n",
        "#x_train,x_test,y_train,y_test=train_test_split(x,y,train_size=0.7,random_state=42)\n",
        "\n",
        "#data_train=pd.concat([x_train,y_train],axis=1)\n",
        "#data_test=pd.concat([x_test,y_test],axis=1)\n",
        "#data_train=x_train.copy()\n",
        "#data_test=x_test.copy()\n",
        "#data_train['y']=y_train\n",
        "#data_test['y']=y_test\n",
        "#ds=data_train.to_csv('training/train.csv')\n",
        "#ds=ws.get_default_datastore()\n",
        "#ds.upload(src_dir='training',target_path='training',overwrite=True)\n",
        "#ds_train=Dataset.Tabular.from_delimited_files(path=[(ds,'training/train.csv')])\n",
        "\n",
        "df_rain = data_rain.to_pandas_dataframe()\n",
        "df_rain.describe()"
      ],
      "outputs": [
        {
          "output_type": "execute_result",
          "execution_count": 4,
          "data": {
            "text/plain": "             MinTemp        MaxTemp    Humidity9am    Humidity3pm  \\\ncount  143975.000000  144199.000000  142806.000000  140953.000000   \nmean       12.194034      23.221348      68.880831      51.539116   \nstd         6.398495       7.119049      19.029164      20.795902   \nmin        -8.500000      -4.800000       0.000000       0.000000   \n25%         7.600000      17.900000      57.000000      37.000000   \n50%        12.000000      22.600000      70.000000      52.000000   \n75%        16.900000      28.200000      83.000000      66.000000   \nmax        33.900000      48.100000     100.000000     100.000000   \n\n        Pressure9am    Pressure3pm        Temp9am       Temp3pm  \ncount  130395.00000  130432.000000  143693.000000  141851.00000  \nmean     1017.64994    1015.255889      16.990631      21.68339  \nstd         7.10653       7.037414       6.488753       6.93665  \nmin       980.50000     977.100000      -7.200000      -5.40000  \n25%      1012.90000    1010.400000      12.300000      16.60000  \n50%      1017.60000    1015.200000      16.700000      21.10000  \n75%      1022.40000    1020.000000      21.600000      26.40000  \nmax      1041.00000    1039.600000      40.200000      46.70000  ",
            "text/html": "<div>\n<style scoped>\n    .dataframe tbody tr th:only-of-type {\n        vertical-align: middle;\n    }\n\n    .dataframe tbody tr th {\n        vertical-align: top;\n    }\n\n    .dataframe thead th {\n        text-align: right;\n    }\n</style>\n<table border=\"1\" class=\"dataframe\">\n  <thead>\n    <tr style=\"text-align: right;\">\n      <th></th>\n      <th>MinTemp</th>\n      <th>MaxTemp</th>\n      <th>Humidity9am</th>\n      <th>Humidity3pm</th>\n      <th>Pressure9am</th>\n      <th>Pressure3pm</th>\n      <th>Temp9am</th>\n      <th>Temp3pm</th>\n    </tr>\n  </thead>\n  <tbody>\n    <tr>\n      <th>count</th>\n      <td>143975.000000</td>\n      <td>144199.000000</td>\n      <td>142806.000000</td>\n      <td>140953.000000</td>\n      <td>130395.00000</td>\n      <td>130432.000000</td>\n      <td>143693.000000</td>\n      <td>141851.00000</td>\n    </tr>\n    <tr>\n      <th>mean</th>\n      <td>12.194034</td>\n      <td>23.221348</td>\n      <td>68.880831</td>\n      <td>51.539116</td>\n      <td>1017.64994</td>\n      <td>1015.255889</td>\n      <td>16.990631</td>\n      <td>21.68339</td>\n    </tr>\n    <tr>\n      <th>std</th>\n      <td>6.398495</td>\n      <td>7.119049</td>\n      <td>19.029164</td>\n      <td>20.795902</td>\n      <td>7.10653</td>\n      <td>7.037414</td>\n      <td>6.488753</td>\n      <td>6.93665</td>\n    </tr>\n    <tr>\n      <th>min</th>\n      <td>-8.500000</td>\n      <td>-4.800000</td>\n      <td>0.000000</td>\n      <td>0.000000</td>\n      <td>980.50000</td>\n      <td>977.100000</td>\n      <td>-7.200000</td>\n      <td>-5.40000</td>\n    </tr>\n    <tr>\n      <th>25%</th>\n      <td>7.600000</td>\n      <td>17.900000</td>\n      <td>57.000000</td>\n      <td>37.000000</td>\n      <td>1012.90000</td>\n      <td>1010.400000</td>\n      <td>12.300000</td>\n      <td>16.60000</td>\n    </tr>\n    <tr>\n      <th>50%</th>\n      <td>12.000000</td>\n      <td>22.600000</td>\n      <td>70.000000</td>\n      <td>52.000000</td>\n      <td>1017.60000</td>\n      <td>1015.200000</td>\n      <td>16.700000</td>\n      <td>21.10000</td>\n    </tr>\n    <tr>\n      <th>75%</th>\n      <td>16.900000</td>\n      <td>28.200000</td>\n      <td>83.000000</td>\n      <td>66.000000</td>\n      <td>1022.40000</td>\n      <td>1020.000000</td>\n      <td>21.600000</td>\n      <td>26.40000</td>\n    </tr>\n    <tr>\n      <th>max</th>\n      <td>33.900000</td>\n      <td>48.100000</td>\n      <td>100.000000</td>\n      <td>100.000000</td>\n      <td>1041.00000</td>\n      <td>1039.600000</td>\n      <td>40.200000</td>\n      <td>46.70000</td>\n    </tr>\n  </tbody>\n</table>\n</div>"
          },
          "metadata": {}
        }
      ],
      "execution_count": 4,
      "metadata": {
        "gather": {
          "logged": 1678100395662
        }
      }
    },
    {
      "cell_type": "code",
      "source": [
        "df_rain.head(3)"
      ],
      "outputs": [
        {
          "output_type": "execute_result",
          "execution_count": 5,
          "data": {
            "text/plain": "        Date Location  MinTemp  MaxTemp Rainfall Evaporation Sunshine  \\\n0 2008-12-01   Albury     13.4     22.9      0.6          NA       NA   \n1 2008-12-02   Albury      7.4     25.1        0          NA       NA   \n2 2008-12-03   Albury     12.9     25.7        0          NA       NA   \n\n  WindGustDir WindGustSpeed WindDir9am  ... Humidity9am Humidity3pm  \\\n0           W            44          W  ...        71.0        22.0   \n1         WNW            44        NNW  ...        44.0        25.0   \n2         WSW            46          W  ...        38.0        30.0   \n\n  Pressure9am  Pressure3pm  Cloud9am  Cloud3pm  Temp9am Temp3pm RainToday  \\\n0      1007.7       1007.1         8        NA     16.9    21.8        No   \n1      1010.6       1007.8        NA        NA     17.2    24.3        No   \n2      1007.6       1008.7        NA         2     21.0    23.2        No   \n\n   RainTomorrow  \n0            No  \n1            No  \n2            No  \n\n[3 rows x 23 columns]",
            "text/html": "<div>\n<style scoped>\n    .dataframe tbody tr th:only-of-type {\n        vertical-align: middle;\n    }\n\n    .dataframe tbody tr th {\n        vertical-align: top;\n    }\n\n    .dataframe thead th {\n        text-align: right;\n    }\n</style>\n<table border=\"1\" class=\"dataframe\">\n  <thead>\n    <tr style=\"text-align: right;\">\n      <th></th>\n      <th>Date</th>\n      <th>Location</th>\n      <th>MinTemp</th>\n      <th>MaxTemp</th>\n      <th>Rainfall</th>\n      <th>Evaporation</th>\n      <th>Sunshine</th>\n      <th>WindGustDir</th>\n      <th>WindGustSpeed</th>\n      <th>WindDir9am</th>\n      <th>...</th>\n      <th>Humidity9am</th>\n      <th>Humidity3pm</th>\n      <th>Pressure9am</th>\n      <th>Pressure3pm</th>\n      <th>Cloud9am</th>\n      <th>Cloud3pm</th>\n      <th>Temp9am</th>\n      <th>Temp3pm</th>\n      <th>RainToday</th>\n      <th>RainTomorrow</th>\n    </tr>\n  </thead>\n  <tbody>\n    <tr>\n      <th>0</th>\n      <td>2008-12-01</td>\n      <td>Albury</td>\n      <td>13.4</td>\n      <td>22.9</td>\n      <td>0.6</td>\n      <td>NA</td>\n      <td>NA</td>\n      <td>W</td>\n      <td>44</td>\n      <td>W</td>\n      <td>...</td>\n      <td>71.0</td>\n      <td>22.0</td>\n      <td>1007.7</td>\n      <td>1007.1</td>\n      <td>8</td>\n      <td>NA</td>\n      <td>16.9</td>\n      <td>21.8</td>\n      <td>No</td>\n      <td>No</td>\n    </tr>\n    <tr>\n      <th>1</th>\n      <td>2008-12-02</td>\n      <td>Albury</td>\n      <td>7.4</td>\n      <td>25.1</td>\n      <td>0</td>\n      <td>NA</td>\n      <td>NA</td>\n      <td>WNW</td>\n      <td>44</td>\n      <td>NNW</td>\n      <td>...</td>\n      <td>44.0</td>\n      <td>25.0</td>\n      <td>1010.6</td>\n      <td>1007.8</td>\n      <td>NA</td>\n      <td>NA</td>\n      <td>17.2</td>\n      <td>24.3</td>\n      <td>No</td>\n      <td>No</td>\n    </tr>\n    <tr>\n      <th>2</th>\n      <td>2008-12-03</td>\n      <td>Albury</td>\n      <td>12.9</td>\n      <td>25.7</td>\n      <td>0</td>\n      <td>NA</td>\n      <td>NA</td>\n      <td>WSW</td>\n      <td>46</td>\n      <td>W</td>\n      <td>...</td>\n      <td>38.0</td>\n      <td>30.0</td>\n      <td>1007.6</td>\n      <td>1008.7</td>\n      <td>NA</td>\n      <td>2</td>\n      <td>21.0</td>\n      <td>23.2</td>\n      <td>No</td>\n      <td>No</td>\n    </tr>\n  </tbody>\n</table>\n<p>3 rows × 23 columns</p>\n</div>"
          },
          "metadata": {}
        }
      ],
      "execution_count": 5,
      "metadata": {
        "gather": {
          "logged": 1678100405306
        }
      }
    },
    {
      "cell_type": "markdown",
      "source": [
        "## AutoML Configuration\n",
        "\n",
        "TODO: Explain why you chose the automl settings and cofiguration you used below."
      ],
      "metadata": {}
    },
    {
      "cell_type": "code",
      "source": [
        "# TODO: Put your automl settings here\n",
        "# let us run the automl for 20 minutes\n",
        "# \n",
        "automl_settings = {\"experiment_timeout_minutes\":30,\n",
        "    \"task\":'classification',\n",
        "    \"primary_metric\":'accuracy',\n",
        "    \"compute_target\":cpu_cluster,\n",
        "    \"featurization\":'auto',\n",
        "    \"training_data\":data_rain,\n",
        "#    \"label_column_name\":'y',\n",
        "    \"label_column_name\":\"RainTomorrow\",\n",
        "    \"n_cross_validations\":5,\n",
        "    \"enable_early_stopping\":True}\n",
        "\n",
        "# TODO: Put your automl config here\n",
        "automl_config = AutoMLConfig(**automl_settings)\n",
        "\n",
        "\n",
        "#ds = ws.get_default_datastore()\n",
        "#metrics_output_name = 'metrics_output'\n",
        "#best_model_output_name = 'best_model_output'\n",
        "\n",
        "#metrics_data = PipelineData(name='metrics_data',\n",
        "#                           datastore=ds,\n",
        "#                           pipeline_output_name=metrics_output_name,\n",
        "#                           training_output=TrainingOutput(type='Metrics'))\n",
        "#model_data = PipelineData(name='model_data',\n",
        "#                           datastore=ds,\n",
        "#                           pipeline_output_name=best_model_output_name,\n",
        "#                           training_output=TrainingOutput(type='Model'))\n",
        "#automl_step = AutoMLStep(\n",
        "#    name='automl_module',\n",
        "#    automl_config=automl_config,\n",
        "#    outputs=[metrics_data, model_data],\n",
        "#    allow_reuse=True\n",
        "#)"
      ],
      "outputs": [],
      "execution_count": 6,
      "metadata": {
        "gather": {
          "logged": 1678100413692
        },
        "jupyter": {
          "outputs_hidden": false,
          "source_hidden": false
        },
        "nteract": {
          "transient": {
            "deleting": false
          }
        }
      }
    },
    {
      "cell_type": "code",
      "source": [
        "# TODO: Submit your experiment\n",
        "automl_run = experiment.submit(automl_config)\n",
        "automl_run.wait_for_completion(show_output=True)\n"
      ],
      "outputs": [
        {
          "output_type": "stream",
          "name": "stdout",
          "text": "Submitting remote run.\n"
        },
        {
          "output_type": "display_data",
          "data": {
            "text/plain": "<IPython.core.display.HTML object>",
            "text/html": "<table style=\"width:100%\"><tr><th>Experiment</th><th>Id</th><th>Type</th><th>Status</th><th>Details Page</th><th>Docs Page</th></tr><tr><td>automl-rain</td><td>AutoML_7634308b-8faa-4f34-9c19-53cef7e3654e</td><td>automl</td><td>NotStarted</td><td><a href=\"https://ml.azure.com/runs/AutoML_7634308b-8faa-4f34-9c19-53cef7e3654e?wsid=/subscriptions/90b94744-e13a-4ecb-a955-1cbb85261a5d/resourcegroups/defaultresourcegroup-brazilsouth/workspaces/coursera_paes&amp;tid=51d21047-48d2-44d8-9b11-c3c090deec69\" target=\"_blank\" rel=\"noopener\">Link to Azure Machine Learning studio</a></td><td><a href=\"https://docs.microsoft.com/en-us/python/api/overview/azure/ml/intro?view=azure-ml-py\" target=\"_blank\" rel=\"noopener\">Link to Documentation</a></td></tr></table>"
          },
          "metadata": {}
        },
        {
          "output_type": "display_data",
          "data": {
            "text/plain": "<IPython.core.display.HTML object>",
            "text/html": "<table style=\"width:100%\"><tr><th>Experiment</th><th>Id</th><th>Type</th><th>Status</th><th>Details Page</th><th>Docs Page</th></tr><tr><td>automl-rain</td><td>AutoML_7634308b-8faa-4f34-9c19-53cef7e3654e</td><td>automl</td><td>NotStarted</td><td><a href=\"https://ml.azure.com/runs/AutoML_7634308b-8faa-4f34-9c19-53cef7e3654e?wsid=/subscriptions/90b94744-e13a-4ecb-a955-1cbb85261a5d/resourcegroups/defaultresourcegroup-brazilsouth/workspaces/coursera_paes&amp;tid=51d21047-48d2-44d8-9b11-c3c090deec69\" target=\"_blank\" rel=\"noopener\">Link to Azure Machine Learning studio</a></td><td><a href=\"https://docs.microsoft.com/en-us/python/api/overview/azure/ml/intro?view=azure-ml-py\" target=\"_blank\" rel=\"noopener\">Link to Documentation</a></td></tr></table>"
          },
          "metadata": {}
        },
        {
          "output_type": "stream",
          "name": "stdout",
          "text": "\nCurrent status: DatasetEvaluation. Gathering dataset statistics.\nCurrent status: FeaturesGeneration. Generating features for the dataset.\nCurrent status: DatasetFeaturization. Beginning to fit featurizers and featurize the dataset.\nCurrent status: DatasetBalancing. Performing class balancing sweeping\nCurrent status: DatasetCrossValidationSplit. Generating individually featurized CV splits.\nCurrent status: ModelSelection. Beginning model selection.\n\n********************************************************************************************\nDATA GUARDRAILS: \n\nTYPE:         Class balancing detection\nSTATUS:       ALERTED\nDESCRIPTION:  To decrease model bias, please cancel the current run and fix balancing problem.\n              Learn more about imbalanced data: https://aka.ms/AutomatedMLImbalancedData\nDETAILS:      Imbalanced data can lead to a falsely perceived positive effect of a model's accuracy because the input data has bias towards one class.\n+------------------------------+--------------------------------+--------------------------------------+\n|Size of the smallest class    |Name/Label of the smallest class|Number of samples in the training data|\n+==============================+================================+======================================+\n|3267                          |NA                              |145460                                |\n+------------------------------+--------------------------------+--------------------------------------+\n\n********************************************************************************************\n\nTYPE:         Missing feature values imputation\nSTATUS:       DONE\nDESCRIPTION:  If the missing values are expected, let the run complete. Otherwise cancel the current run and use a script to customize the handling of missing feature values that may be more appropriate based on the data type and business requirement.\n              Learn more about missing value imputation: https://aka.ms/AutomatedMLFeaturization\nDETAILS:      \n+------------------------------+------------------------------+------------------------------+\n|Column name                   |Missing value count           |Imputation type               |\n+==============================+==============================+==============================+\n|MinTemp                       |1485                          |mean                          |\n|MaxTemp                       |1261                          |mean                          |\n|Humidity9am                   |2654                          |mean                          |\n|Humidity3pm                   |4507                          |mean                          |\n|Pressure9am                   |15065                         |mean                          |\n|Pressure3pm                   |15028                         |mean                          |\n|Temp9am                       |1767                          |mean                          |\n|Temp3pm                       |3609                          |mean                          |\n+------------------------------+------------------------------+------------------------------+\n\n********************************************************************************************\n\nTYPE:         High cardinality feature detection\nSTATUS:       PASSED\nDESCRIPTION:  Your inputs were analyzed, and no high cardinality features were detected.\n              Learn more about high cardinality feature handling: https://aka.ms/AutomatedMLFeaturization\n\n********************************************************************************************\n\n********************************************************************************************\nITER: The iteration being evaluated.\nPIPELINE: A summary description of the pipeline being evaluated.\nDURATION: Time taken for the current iteration.\nMETRIC: The result of computing score on the fitted pipeline.\nBEST: The best observed score thus far.\n********************************************************************************************\n\n ITER   PIPELINE                                       DURATION            METRIC      BEST\n    0   MaxAbsScaler LightGBM                          0:00:58             0.8489    0.8489\n    1   MaxAbsScaler XGBoostClassifier                 0:07:24             0.8492    0.8492\n    2   MaxAbsScaler ExtremeRandomTrees                0:01:13             0.7153    0.8492\n    3   SparseNormalizer XGBoostClassifier             0:03:33             0.8307    0.8492\n    4   MaxAbsScaler LightGBM                          0:00:28             0.8343    0.8492\n    5   MaxAbsScaler LightGBM                          0:00:25             0.7983    0.8492\n    6   StandardScalerWrapper XGBoostClassifier        0:01:18             0.8384    0.8492\n    7   MaxAbsScaler LogisticRegression                0:00:59             0.8350    0.8492\n    8   StandardScalerWrapper ExtremeRandomTrees       0:00:45             0.7753    0.8492\n    9   StandardScalerWrapper XGBoostClassifier        0:00:52             0.8364    0.8492\n   10   SparseNormalizer LightGBM                      0:00:25             0.8176    0.8492\n   11   StandardScalerWrapper XGBoostClassifier        0:00:52             0.8341    0.8492\n   12   MaxAbsScaler LogisticRegression                0:00:59             0.8349    0.8492\n   13   MaxAbsScaler SGD                               0:00:33             0.8123    0.8492\n   14   StandardScalerWrapper XGBoostClassifier        0:02:09             0.8407    0.8492\n   15   SparseNormalizer RandomForest                  0:01:54             0.7199    0.8492\n   16   StandardScalerWrapper LogisticRegression       0:01:00             0.8165    0.8492\n   17   StandardScalerWrapper RandomForest             0:02:03             0.8104    0.8492\n   18   StandardScalerWrapper XGBoostClassifier        0:02:14                nan    0.8492\n   19                                                  0:30:30                nan    0.8492\n   20    VotingEnsemble                                0:01:40             0.8497    0.8497\n   21    StackEnsemble                                 0:12:05             0.8508    0.8508\n"
        },
        {
          "output_type": "execute_result",
          "execution_count": 7,
          "data": {
            "text/plain": "{'runId': 'AutoML_7634308b-8faa-4f34-9c19-53cef7e3654e',\n 'target': 'vzeizer1',\n 'status': 'Completed',\n 'startTimeUtc': '2023-03-06T11:00:34.231958Z',\n 'endTimeUtc': '2023-03-06T11:59:31.176563Z',\n 'services': {},\n 'warnings': [{'source': 'JasmineService',\n   'message': 'Experiment timeout reached, hence experiment stopped. Current experiment timeout: 0 hour(s) 30 minute(s)'}],\n 'properties': {'num_iterations': '1000',\n  'training_type': 'TrainFull',\n  'acquisition_function': 'EI',\n  'primary_metric': 'accuracy',\n  'train_split': '0',\n  'acquisition_parameter': '0',\n  'num_cross_validation': '5',\n  'target': 'vzeizer1',\n  'AMLSettingsJsonString': '{\"path\":null,\"name\":\"automl-rain\",\"subscription_id\":\"90b94744-e13a-4ecb-a955-1cbb85261a5d\",\"resource_group\":\"defaultresourcegroup-brazilsouth\",\"workspace_name\":\"coursera_paes\",\"region\":\"brazilsouth\",\"compute_target\":\"vzeizer1\",\"spark_service\":null,\"azure_service\":\"remote\",\"many_models\":false,\"pipeline_fetch_max_batch_size\":1,\"enable_batch_run\":true,\"enable_parallel_run\":false,\"num_procs\":null,\"enable_run_restructure\":false,\"start_auxiliary_runs_before_parent_complete\":false,\"enable_code_generation\":true,\"iterations\":1000,\"primary_metric\":\"accuracy\",\"task_type\":\"classification\",\"positive_label\":null,\"data_script\":null,\"test_size\":0.0,\"test_include_predictions_only\":false,\"validation_size\":0.0,\"n_cross_validations\":5,\"y_min\":null,\"y_max\":null,\"num_classes\":null,\"featurization\":\"auto\",\"_ignore_package_version_incompatibilities\":false,\"is_timeseries\":false,\"max_cores_per_iteration\":1,\"max_concurrent_iterations\":1,\"iteration_timeout_minutes\":null,\"mem_in_mb\":null,\"enforce_time_on_windows\":false,\"experiment_timeout_minutes\":30,\"experiment_exit_score\":null,\"partition_column_names\":null,\"whitelist_models\":null,\"blacklist_algos\":[\"TensorFlowLinearClassifier\",\"TensorFlowDNN\"],\"supported_models\":[\"KNN\",\"XGBoostClassifier\",\"GradientBoosting\",\"TensorFlowLinearClassifier\",\"LinearSVM\",\"ExtremeRandomTrees\",\"SGD\",\"AveragedPerceptronClassifier\",\"TabnetClassifier\",\"DecisionTree\",\"LogisticRegression\",\"TensorFlowDNN\",\"SVM\",\"LightGBM\",\"RandomForest\",\"MultinomialNaiveBayes\",\"BernoulliNaiveBayes\"],\"private_models\":[],\"auto_blacklist\":true,\"blacklist_samples_reached\":false,\"exclude_nan_labels\":true,\"verbosity\":20,\"_debug_log\":\"azureml_automl.log\",\"show_warnings\":false,\"model_explainability\":true,\"service_url\":null,\"sdk_url\":null,\"sdk_packages\":null,\"enable_onnx_compatible_models\":false,\"enable_split_onnx_featurizer_estimator_models\":false,\"vm_type\":\"STANDARD_DS3_V2\",\"telemetry_verbosity\":20,\"send_telemetry\":true,\"enable_dnn\":false,\"scenario\":\"AutoML\",\"environment_label\":null,\"save_mlflow\":false,\"enable_categorical_indicators\":false,\"force_text_dnn\":false,\"enable_feature_sweeping\":true,\"enable_early_stopping\":true,\"early_stopping_n_iters\":10,\"arguments\":null,\"dataset_id\":\"d93d8041-85d0-4448-9a79-ff05fc455845\",\"hyperdrive_config\":null,\"validation_dataset_id\":null,\"run_source\":null,\"metrics\":null,\"enable_metric_confidence\":false,\"enable_ensembling\":true,\"enable_stack_ensembling\":true,\"ensemble_iterations\":15,\"enable_tf\":false,\"enable_subsampling\":null,\"subsample_seed\":null,\"enable_nimbusml\":false,\"enable_streaming\":false,\"force_streaming\":false,\"track_child_runs\":true,\"n_best_runs\":1,\"allowed_private_models\":[],\"label_column_name\":\"RainTomorrow\",\"weight_column_name\":null,\"cv_split_column_names\":null,\"enable_local_managed\":false,\"_local_managed_run_id\":null,\"cost_mode\":1,\"lag_length\":0,\"metric_operation\":\"maximize\",\"preprocess\":true}',\n  'DataPrepJsonString': '{\\\\\"training_data\\\\\": {\\\\\"datasetId\\\\\": \\\\\"d93d8041-85d0-4448-9a79-ff05fc455845\\\\\"}, \\\\\"datasets\\\\\": 0}',\n  'EnableSubsampling': None,\n  'runTemplate': 'AutoML',\n  'azureml.runsource': 'automl',\n  'display_task_type': 'classification',\n  'dependencies_versions': '{\"azureml-widgets\": \"1.48.0\", \"azureml-training-tabular\": \"1.48.0\", \"azureml-train\": \"1.48.0\", \"azureml-train-restclients-hyperdrive\": \"1.48.0\", \"azureml-train-core\": \"1.48.0\", \"azureml-train-automl\": \"1.48.0\", \"azureml-train-automl-runtime\": \"1.48.0\", \"azureml-train-automl-client\": \"1.48.0\", \"azureml-tensorboard\": \"1.48.0\", \"azureml-telemetry\": \"1.48.0\", \"azureml-sdk\": \"1.48.0\", \"azureml-samples\": \"0+unknown\", \"azureml-responsibleai\": \"1.48.0\", \"azureml-pipeline\": \"1.48.0\", \"azureml-pipeline-steps\": \"1.48.0\", \"azureml-pipeline-core\": \"1.48.0\", \"azureml-opendatasets\": \"1.48.0\", \"azureml-mlflow\": \"1.48.0\", \"azureml-interpret\": \"1.48.0\", \"azureml-inference-server-http\": \"0.7.7\", \"azureml-explain-model\": \"1.48.0\", \"azureml-defaults\": \"1.48.0\", \"azureml-dataset-runtime\": \"1.48.0\", \"azureml-dataprep\": \"4.8.3\", \"azureml-dataprep-rslex\": \"2.15.1\", \"azureml-dataprep-native\": \"38.0.0\", \"azureml-datadrift\": \"1.48.0\", \"azureml-core\": \"1.48.0\", \"azureml-contrib-services\": \"1.48.0\", \"azureml-contrib-server\": \"1.48.0\", \"azureml-contrib-reinforcementlearning\": \"1.48.0\", \"azureml-contrib-pipeline-steps\": \"1.48.0\", \"azureml-contrib-notebook\": \"1.48.0\", \"azureml-contrib-fairness\": \"1.48.0\", \"azureml-contrib-dataset\": \"1.48.0\", \"azureml-contrib-automl-pipeline-steps\": \"1.48.0\", \"azureml-cli-common\": \"1.48.0\", \"azureml-automl-runtime\": \"1.48.0.post1\", \"azureml-automl-dnn-nlp\": \"1.48.0\", \"azureml-automl-core\": \"1.48.0\", \"azureml-accel-models\": \"1.48.0\"}',\n  '_aml_system_scenario_identification': 'Remote.Parent',\n  'ClientType': 'SDK',\n  'PlatformVersion': 'DPV1',\n  'environment_cpu_name': 'AzureML-AutoML',\n  'environment_cpu_label': 'nimbus-deprecation',\n  'environment_gpu_name': 'AzureML-AutoML-GPU',\n  'environment_gpu_label': 'prod',\n  'root_attribution': 'automl',\n  'attribution': 'AutoML',\n  'Orchestrator': 'AutoML',\n  'CancelUri': 'https://brazilsouth.api.azureml.ms/jasmine/v1.0/subscriptions/90b94744-e13a-4ecb-a955-1cbb85261a5d/resourceGroups/defaultresourcegroup-brazilsouth/providers/Microsoft.MachineLearningServices/workspaces/coursera_paes/experimentids/de1f32a8-f752-4279-a521-a3686a7ca374/cancel/AutoML_7634308b-8faa-4f34-9c19-53cef7e3654e',\n  'ClientSdkVersion': '1.48.0.post1',\n  'snapshotId': '00000000-0000-0000-0000-000000000000',\n  'SetupRunId': 'AutoML_7634308b-8faa-4f34-9c19-53cef7e3654e_setup',\n  'SetupRunContainerId': 'dcid.AutoML_7634308b-8faa-4f34-9c19-53cef7e3654e_setup',\n  'FeaturizationRunJsonPath': 'featurizer_container.json',\n  'FeaturizationRunId': 'AutoML_7634308b-8faa-4f34-9c19-53cef7e3654e_featurize',\n  'ProblemInfoJsonString': '{\"dataset_num_categorical\": 0, \"is_sparse\": true, \"subsampling\": false, \"has_extra_col\": true, \"dataset_classes\": 3, \"dataset_features\": 1221, \"dataset_samples\": 145460, \"single_frequency_class_detected\": false}',\n  'ModelExplainRunId': 'AutoML_7634308b-8faa-4f34-9c19-53cef7e3654e_ModelExplain'},\n 'inputDatasets': [{'dataset': {'id': 'd93d8041-85d0-4448-9a79-ff05fc455845'}, 'consumptionDetails': {'type': 'RunInput', 'inputName': 'training_data', 'mechanism': 'Direct'}}],\n 'outputDatasets': [],\n 'logFiles': {},\n 'submittedBy': 'Vagner Zeizer Carvalho Paes'}"
          },
          "metadata": {}
        }
      ],
      "execution_count": 7,
      "metadata": {
        "gather": {
          "logged": 1678103994938
        },
        "jupyter": {
          "outputs_hidden": false,
          "source_hidden": false
        },
        "nteract": {
          "transient": {
            "deleting": false
          }
        }
      }
    },
    {
      "cell_type": "markdown",
      "source": [
        "## Run Details\n",
        "\n",
        "OPTIONAL: Write about the different models trained and their performance. Why do you think some models did better than others?\n",
        "\n",
        "TODO: In the cell below, use the `RunDetails` widget to show the different experiments."
      ],
      "metadata": {}
    },
    {
      "cell_type": "code",
      "source": [
        "RunDetails(automl_run).show()"
      ],
      "outputs": [
        {
          "output_type": "display_data",
          "data": {
            "text/plain": "_AutoMLWidget(widget_settings={'childWidgetDisplay': 'popup', 'send_telemetry': False, 'log_level': 'INFO', 's…",
            "application/vnd.jupyter.widget-view+json": {
              "version_major": 2,
              "version_minor": 0,
              "model_id": "16dd9c085cb347cdb53686bba0d5eb05"
            }
          },
          "metadata": {}
        },
        {
          "output_type": "display_data",
          "data": {
            "application/aml.mini.widget.v1": "{\"status\": \"Completed\", \"workbench_run_details_uri\": \"https://ml.azure.com/runs/AutoML_7634308b-8faa-4f34-9c19-53cef7e3654e?wsid=/subscriptions/90b94744-e13a-4ecb-a955-1cbb85261a5d/resourcegroups/defaultresourcegroup-brazilsouth/workspaces/coursera_paes&tid=51d21047-48d2-44d8-9b11-c3c090deec69\", \"run_id\": \"AutoML_7634308b-8faa-4f34-9c19-53cef7e3654e\", \"run_properties\": {\"run_id\": \"AutoML_7634308b-8faa-4f34-9c19-53cef7e3654e\", \"created_utc\": \"2023-03-06T11:00:20.132245Z\", \"properties\": {\"num_iterations\": \"1000\", \"training_type\": \"TrainFull\", \"acquisition_function\": \"EI\", \"primary_metric\": \"accuracy\", \"train_split\": \"0\", \"acquisition_parameter\": \"0\", \"num_cross_validation\": \"5\", \"target\": \"vzeizer1\", \"AMLSettingsJsonString\": \"{\\\"path\\\":null,\\\"name\\\":\\\"automl-rain\\\",\\\"subscription_id\\\":\\\"90b94744-e13a-4ecb-a955-1cbb85261a5d\\\",\\\"resource_group\\\":\\\"defaultresourcegroup-brazilsouth\\\",\\\"workspace_name\\\":\\\"coursera_paes\\\",\\\"region\\\":\\\"brazilsouth\\\",\\\"compute_target\\\":\\\"vzeizer1\\\",\\\"spark_service\\\":null,\\\"azure_service\\\":\\\"remote\\\",\\\"many_models\\\":false,\\\"pipeline_fetch_max_batch_size\\\":1,\\\"enable_batch_run\\\":true,\\\"enable_parallel_run\\\":false,\\\"num_procs\\\":null,\\\"enable_run_restructure\\\":false,\\\"start_auxiliary_runs_before_parent_complete\\\":false,\\\"enable_code_generation\\\":true,\\\"iterations\\\":1000,\\\"primary_metric\\\":\\\"accuracy\\\",\\\"task_type\\\":\\\"classification\\\",\\\"positive_label\\\":null,\\\"data_script\\\":null,\\\"test_size\\\":0.0,\\\"test_include_predictions_only\\\":false,\\\"validation_size\\\":0.0,\\\"n_cross_validations\\\":5,\\\"y_min\\\":null,\\\"y_max\\\":null,\\\"num_classes\\\":null,\\\"featurization\\\":\\\"auto\\\",\\\"_ignore_package_version_incompatibilities\\\":false,\\\"is_timeseries\\\":false,\\\"max_cores_per_iteration\\\":1,\\\"max_concurrent_iterations\\\":1,\\\"iteration_timeout_minutes\\\":null,\\\"mem_in_mb\\\":null,\\\"enforce_time_on_windows\\\":false,\\\"experiment_timeout_minutes\\\":30,\\\"experiment_exit_score\\\":null,\\\"partition_column_names\\\":null,\\\"whitelist_models\\\":null,\\\"blacklist_algos\\\":[\\\"TensorFlowLinearClassifier\\\",\\\"TensorFlowDNN\\\"],\\\"supported_models\\\":[\\\"KNN\\\",\\\"XGBoostClassifier\\\",\\\"GradientBoosting\\\",\\\"TensorFlowLinearClassifier\\\",\\\"LinearSVM\\\",\\\"ExtremeRandomTrees\\\",\\\"SGD\\\",\\\"AveragedPerceptronClassifier\\\",\\\"TabnetClassifier\\\",\\\"DecisionTree\\\",\\\"LogisticRegression\\\",\\\"TensorFlowDNN\\\",\\\"SVM\\\",\\\"LightGBM\\\",\\\"RandomForest\\\",\\\"MultinomialNaiveBayes\\\",\\\"BernoulliNaiveBayes\\\"],\\\"private_models\\\":[],\\\"auto_blacklist\\\":true,\\\"blacklist_samples_reached\\\":false,\\\"exclude_nan_labels\\\":true,\\\"verbosity\\\":20,\\\"_debug_log\\\":\\\"azureml_automl.log\\\",\\\"show_warnings\\\":false,\\\"model_explainability\\\":true,\\\"service_url\\\":null,\\\"sdk_url\\\":null,\\\"sdk_packages\\\":null,\\\"enable_onnx_compatible_models\\\":false,\\\"enable_split_onnx_featurizer_estimator_models\\\":false,\\\"vm_type\\\":\\\"STANDARD_DS3_V2\\\",\\\"telemetry_verbosity\\\":20,\\\"send_telemetry\\\":true,\\\"enable_dnn\\\":false,\\\"scenario\\\":\\\"AutoML\\\",\\\"environment_label\\\":null,\\\"save_mlflow\\\":false,\\\"enable_categorical_indicators\\\":false,\\\"force_text_dnn\\\":false,\\\"enable_feature_sweeping\\\":true,\\\"enable_early_stopping\\\":true,\\\"early_stopping_n_iters\\\":10,\\\"arguments\\\":null,\\\"dataset_id\\\":\\\"d93d8041-85d0-4448-9a79-ff05fc455845\\\",\\\"hyperdrive_config\\\":null,\\\"validation_dataset_id\\\":null,\\\"run_source\\\":null,\\\"metrics\\\":null,\\\"enable_metric_confidence\\\":false,\\\"enable_ensembling\\\":true,\\\"enable_stack_ensembling\\\":true,\\\"ensemble_iterations\\\":15,\\\"enable_tf\\\":false,\\\"enable_subsampling\\\":null,\\\"subsample_seed\\\":null,\\\"enable_nimbusml\\\":false,\\\"enable_streaming\\\":false,\\\"force_streaming\\\":false,\\\"track_child_runs\\\":true,\\\"n_best_runs\\\":1,\\\"allowed_private_models\\\":[],\\\"label_column_name\\\":\\\"RainTomorrow\\\",\\\"weight_column_name\\\":null,\\\"cv_split_column_names\\\":null,\\\"enable_local_managed\\\":false,\\\"_local_managed_run_id\\\":null,\\\"cost_mode\\\":1,\\\"lag_length\\\":0,\\\"metric_operation\\\":\\\"maximize\\\",\\\"preprocess\\\":true}\", \"DataPrepJsonString\": \"{\\\\\\\"training_data\\\\\\\": {\\\\\\\"datasetId\\\\\\\": \\\\\\\"d93d8041-85d0-4448-9a79-ff05fc455845\\\\\\\"}, \\\\\\\"datasets\\\\\\\": 0}\", \"EnableSubsampling\": null, \"runTemplate\": \"AutoML\", \"azureml.runsource\": \"automl\", \"display_task_type\": \"classification\", \"dependencies_versions\": \"{\\\"azureml-widgets\\\": \\\"1.48.0\\\", \\\"azureml-training-tabular\\\": \\\"1.48.0\\\", \\\"azureml-train\\\": \\\"1.48.0\\\", \\\"azureml-train-restclients-hyperdrive\\\": \\\"1.48.0\\\", \\\"azureml-train-core\\\": \\\"1.48.0\\\", \\\"azureml-train-automl\\\": \\\"1.48.0\\\", \\\"azureml-train-automl-runtime\\\": \\\"1.48.0\\\", \\\"azureml-train-automl-client\\\": \\\"1.48.0\\\", \\\"azureml-tensorboard\\\": \\\"1.48.0\\\", \\\"azureml-telemetry\\\": \\\"1.48.0\\\", \\\"azureml-sdk\\\": \\\"1.48.0\\\", \\\"azureml-samples\\\": \\\"0+unknown\\\", \\\"azureml-responsibleai\\\": \\\"1.48.0\\\", \\\"azureml-pipeline\\\": \\\"1.48.0\\\", \\\"azureml-pipeline-steps\\\": \\\"1.48.0\\\", \\\"azureml-pipeline-core\\\": \\\"1.48.0\\\", \\\"azureml-opendatasets\\\": \\\"1.48.0\\\", \\\"azureml-mlflow\\\": \\\"1.48.0\\\", \\\"azureml-interpret\\\": \\\"1.48.0\\\", \\\"azureml-inference-server-http\\\": \\\"0.7.7\\\", \\\"azureml-explain-model\\\": \\\"1.48.0\\\", \\\"azureml-defaults\\\": \\\"1.48.0\\\", \\\"azureml-dataset-runtime\\\": \\\"1.48.0\\\", \\\"azureml-dataprep\\\": \\\"4.8.3\\\", \\\"azureml-dataprep-rslex\\\": \\\"2.15.1\\\", \\\"azureml-dataprep-native\\\": \\\"38.0.0\\\", \\\"azureml-datadrift\\\": \\\"1.48.0\\\", \\\"azureml-core\\\": \\\"1.48.0\\\", \\\"azureml-contrib-services\\\": \\\"1.48.0\\\", \\\"azureml-contrib-server\\\": \\\"1.48.0\\\", \\\"azureml-contrib-reinforcementlearning\\\": \\\"1.48.0\\\", \\\"azureml-contrib-pipeline-steps\\\": \\\"1.48.0\\\", \\\"azureml-contrib-notebook\\\": \\\"1.48.0\\\", \\\"azureml-contrib-fairness\\\": \\\"1.48.0\\\", \\\"azureml-contrib-dataset\\\": \\\"1.48.0\\\", \\\"azureml-contrib-automl-pipeline-steps\\\": \\\"1.48.0\\\", \\\"azureml-cli-common\\\": \\\"1.48.0\\\", \\\"azureml-automl-runtime\\\": \\\"1.48.0.post1\\\", \\\"azureml-automl-dnn-nlp\\\": \\\"1.48.0\\\", \\\"azureml-automl-core\\\": \\\"1.48.0\\\", \\\"azureml-accel-models\\\": \\\"1.48.0\\\"}\", \"_aml_system_scenario_identification\": \"Remote.Parent\", \"ClientType\": \"SDK\", \"PlatformVersion\": \"DPV1\", \"environment_cpu_name\": \"AzureML-AutoML\", \"environment_cpu_label\": \"nimbus-deprecation\", \"environment_gpu_name\": \"AzureML-AutoML-GPU\", \"environment_gpu_label\": \"prod\", \"root_attribution\": \"automl\", \"attribution\": \"AutoML\", \"Orchestrator\": \"AutoML\", \"CancelUri\": \"https://brazilsouth.api.azureml.ms/jasmine/v1.0/subscriptions/90b94744-e13a-4ecb-a955-1cbb85261a5d/resourceGroups/defaultresourcegroup-brazilsouth/providers/Microsoft.MachineLearningServices/workspaces/coursera_paes/experimentids/de1f32a8-f752-4279-a521-a3686a7ca374/cancel/AutoML_7634308b-8faa-4f34-9c19-53cef7e3654e\", \"ClientSdkVersion\": \"1.48.0.post1\", \"snapshotId\": \"00000000-0000-0000-0000-000000000000\", \"SetupRunId\": \"AutoML_7634308b-8faa-4f34-9c19-53cef7e3654e_setup\", \"SetupRunContainerId\": \"dcid.AutoML_7634308b-8faa-4f34-9c19-53cef7e3654e_setup\", \"FeaturizationRunJsonPath\": \"featurizer_container.json\", \"FeaturizationRunId\": \"AutoML_7634308b-8faa-4f34-9c19-53cef7e3654e_featurize\", \"ProblemInfoJsonString\": \"{\\\"dataset_num_categorical\\\": 0, \\\"is_sparse\\\": true, \\\"subsampling\\\": false, \\\"has_extra_col\\\": true, \\\"dataset_classes\\\": 3, \\\"dataset_features\\\": 1221, \\\"dataset_samples\\\": 145460, \\\"single_frequency_class_detected\\\": false}\", \"ModelExplainRunId\": \"AutoML_7634308b-8faa-4f34-9c19-53cef7e3654e_ModelExplain\"}, \"tags\": {\"model_explain_run\": \"best_run\", \"_aml_system_automl_run_workspace_id\": \"0ad885ec-84c9-4232-b25e-5fc84cb047ee\", \"_aml_system_azureml.automlComponent\": \"AutoML\", \"pipeline_id_000\": \"5dfac790c5c209f98a1da2dc1c7fb76f0397324f;c7af0367625be6ac5c2fecbfc72ed444cb7a2111;799d2168db11fc19b9e1c6c1df62f8981ad39fe9;44b5d2d23120dfcf96a7dc6389a293d17a966b1b;3735210984ea10097d5c91905cf6300ac278cd89;5304e705d6f401cb07f85bcf0ca59ac1f84dfcf5;294650ec23bc3d067a4972de7ceb12f6e97260fa;3caa818370e5e0c328d6266c359019bd31681270;79ebb3b8c385e3190e3dd4c1fa28b74730528045;589334a57221e0720a95cf217c065115a7b841d1;5a8eb9d9f67b1dd7e9e4062585daa2417ea78989;35b8e2db3c5f6e714072e1be9f0210fe48426975;da45f657e4591caadf1589a85a1f7b8932585595;797e3e972ad02d947be4c64d2b06b775b6df7a49;3fd2e115482e0c7b92aa3297688aefb6c3aa6fb8;1dfdf370ba770047b14bfa59c40920815defcdab;5235e3d56688f5f38ef82d73fba7c2e698fc1af2;17f87d449bb43aaf3cdae4b7eb6dd6e7fbdaf343;2032292dd602836ed754a266c771ac100c4c80dc;dc68fbd594530b5d52812dd9b3ffa3d6d8ba625e;__AutoML_Ensemble__;__AutoML_Stack_Ensemble__\", \"score\": \"\", \"predicted_cost\": \"\", \"fit_time\": \"\", \"training_percent\": \"\", \"iteration\": \"\", \"run_preprocessor\": \"\", \"run_algorithm\": \"\", \"_aml_system_azureml.automl_early_exit_message\": \"Experiment timeout reached, hence experiment stopped. Current experiment timeout: 0 hour(s) 30 minute(s)\", \"automl_best_child_run_id\": \"AutoML_7634308b-8faa-4f34-9c19-53cef7e3654e_21\", \"model_explain_best_run_child_id\": \"AutoML_7634308b-8faa-4f34-9c19-53cef7e3654e_21\"}, \"end_time_utc\": \"2023-03-06T11:59:31.176563Z\", \"status\": \"Completed\", \"log_files\": {}, \"log_groups\": [], \"run_duration\": \"0:59:11\", \"run_number\": \"1678100420\", \"run_queued_details\": {\"status\": \"Completed\", \"details\": null}}, \"child_runs\": [{\"run_id\": \"AutoML_7634308b-8faa-4f34-9c19-53cef7e3654e_setup\", \"run_number\": 1678100432, \"metric\": null, \"status\": \"Completed\", \"run_type\": \"azureml.scriptrun\", \"training_percent\": null, \"start_time\": \"2023-03-06T11:00:50.294078Z\", \"end_time\": \"2023-03-06T11:02:03.003769Z\", \"created_time\": \"2023-03-06T11:00:32.875899Z\", \"created_time_dt\": \"2023-03-06T11:00:32.875899Z\", \"duration\": \"0:01:30\", \"iteration\": null, \"goal\": null, \"run_name\": \"Completed\", \"run_properties\": null}, {\"run_id\": \"AutoML_7634308b-8faa-4f34-9c19-53cef7e3654e_featurize\", \"run_number\": 1678100523, \"metric\": null, \"status\": \"Completed\", \"run_type\": \"automl.featurization\", \"training_percent\": null, \"start_time\": \"2023-03-06T11:02:03.511986Z\", \"end_time\": \"2023-03-06T11:09:43.549365Z\", \"created_time\": \"2023-03-06T11:02:03.213609Z\", \"created_time_dt\": \"2023-03-06T11:02:03.213609Z\", \"duration\": \"0:07:40\", \"iteration\": null, \"goal\": null, \"run_name\": \"Completed\", \"run_properties\": null}, {\"run_id\": \"AutoML_7634308b-8faa-4f34-9c19-53cef7e3654e_0\", \"run_number\": 1678100985, \"metric\": null, \"status\": \"Completed\", \"run_type\": null, \"training_percent\": \"100\", \"start_time\": \"2023-03-06T11:10:12.412179Z\", \"end_time\": \"2023-03-06T11:11:10.656475Z\", \"created_time\": \"2023-03-06T11:09:45.89405Z\", \"created_time_dt\": \"2023-03-06T11:09:45.89405Z\", \"duration\": \"0:01:24\", \"iteration\": \"0\", \"goal\": \"accuracy_max\", \"run_name\": \"MaxAbsScaler, LightGBM\", \"run_properties\": \"copy=True\", \"primary_metric\": 0.84892754, \"best_metric\": 0.84892754}, {\"run_id\": \"AutoML_7634308b-8faa-4f34-9c19-53cef7e3654e_1\", \"run_number\": 1678100986, \"metric\": null, \"status\": \"Completed\", \"run_type\": null, \"training_percent\": \"100\", \"start_time\": \"2023-03-06T11:11:11.13465Z\", \"end_time\": \"2023-03-06T11:18:34.93025Z\", \"created_time\": \"2023-03-06T11:09:46.375255Z\", \"created_time_dt\": \"2023-03-06T11:09:46.375255Z\", \"duration\": \"0:08:48\", \"iteration\": \"1\", \"goal\": \"accuracy_max\", \"run_name\": \"MaxAbsScaler, XGBoostClassifier\", \"run_properties\": \"copy=True\", \"primary_metric\": 0.84918191, \"best_metric\": 0.84918191}, {\"run_id\": \"AutoML_7634308b-8faa-4f34-9c19-53cef7e3654e_3\", \"run_number\": 1678100987, \"metric\": null, \"status\": \"Completed\", \"run_type\": null, \"training_percent\": \"100\", \"start_time\": \"2023-03-06T11:19:49.47013Z\", \"end_time\": \"2023-03-06T11:23:22.516087Z\", \"created_time\": \"2023-03-06T11:09:47.215343Z\", \"created_time_dt\": \"2023-03-06T11:09:47.215343Z\", \"duration\": \"0:13:35\", \"iteration\": \"3\", \"goal\": \"accuracy_max\", \"run_name\": \"SparseNormalizer, XGBoostClassifier\", \"run_properties\": \"copy=True, norm='l2'\", \"primary_metric\": 0.83073697, \"best_metric\": 0.84918191}, {\"run_id\": \"AutoML_7634308b-8faa-4f34-9c19-53cef7e3654e_5\", \"run_number\": 1678100988, \"metric\": null, \"status\": \"Completed\", \"run_type\": null, \"training_percent\": \"100\", \"start_time\": \"2023-03-06T11:23:51.472719Z\", \"end_time\": \"2023-03-06T11:24:16.08003Z\", \"created_time\": \"2023-03-06T11:09:48.04453Z\", \"created_time_dt\": \"2023-03-06T11:09:48.04453Z\", \"duration\": \"0:14:28\", \"iteration\": \"5\", \"goal\": \"accuracy_max\", \"run_name\": \"MaxAbsScaler, LightGBM\", \"run_properties\": \"copy=True\", \"primary_metric\": 0.79833631, \"best_metric\": 0.84918191}, {\"run_id\": \"AutoML_7634308b-8faa-4f34-9c19-53cef7e3654e_8\", \"run_number\": 1678100989, \"metric\": null, \"status\": \"Completed\", \"run_type\": null, \"training_percent\": \"100\", \"start_time\": \"2023-03-06T11:26:33.788964Z\", \"end_time\": \"2023-03-06T11:27:18.588541Z\", \"created_time\": \"2023-03-06T11:09:49.231462Z\", \"created_time_dt\": \"2023-03-06T11:09:49.231462Z\", \"duration\": \"0:17:29\", \"iteration\": \"8\", \"goal\": \"accuracy_max\", \"run_name\": \"StandardScalerWrapper, ExtremeRandomTrees\", \"run_properties\": \"copy=True, with_mean=False, with_std=False\", \"primary_metric\": 0.77531968, \"best_metric\": 0.84918191}, {\"run_id\": \"AutoML_7634308b-8faa-4f34-9c19-53cef7e3654e_10\", \"run_number\": 1678100990, \"metric\": null, \"status\": \"Completed\", \"run_type\": null, \"training_percent\": \"100\", \"start_time\": \"2023-03-06T11:28:11.29785Z\", \"end_time\": \"2023-03-06T11:28:36.501327Z\", \"created_time\": \"2023-03-06T11:09:50.069676Z\", \"created_time_dt\": \"2023-03-06T11:09:50.069676Z\", \"duration\": \"0:18:46\", \"iteration\": \"10\", \"goal\": \"accuracy_max\", \"run_name\": \"SparseNormalizer, LightGBM\", \"run_properties\": \"copy=True, norm='l1'\", \"primary_metric\": 0.81755122, \"best_metric\": 0.84918191}, {\"run_id\": \"AutoML_7634308b-8faa-4f34-9c19-53cef7e3654e_13\", \"run_number\": 1678100991, \"metric\": null, \"status\": \"Completed\", \"run_type\": null, \"training_percent\": \"100\", \"start_time\": \"2023-03-06T11:30:28.795849Z\", \"end_time\": \"2023-03-06T11:31:01.391944Z\", \"created_time\": \"2023-03-06T11:09:51.274023Z\", \"created_time_dt\": \"2023-03-06T11:09:51.274023Z\", \"duration\": \"0:21:10\", \"iteration\": \"13\", \"goal\": \"accuracy_max\", \"run_name\": \"MaxAbsScaler, SGD\", \"run_properties\": \"copy=True\", \"primary_metric\": 0.81229891, \"best_metric\": 0.84918191}, {\"run_id\": \"AutoML_7634308b-8faa-4f34-9c19-53cef7e3654e_15\", \"run_number\": 1678100992, \"metric\": null, \"status\": \"Completed\", \"run_type\": null, \"training_percent\": \"100\", \"start_time\": \"2023-03-06T11:33:12.006411Z\", \"end_time\": \"2023-03-06T11:35:05.64834Z\", \"created_time\": \"2023-03-06T11:09:52.085435Z\", \"created_time_dt\": \"2023-03-06T11:09:52.085435Z\", \"duration\": \"0:25:13\", \"iteration\": \"15\", \"goal\": \"accuracy_max\", \"run_name\": \"SparseNormalizer, RandomForest\", \"run_properties\": \"copy=True, norm='l2'\", \"primary_metric\": 0.719868, \"best_metric\": 0.84918191}, {\"run_id\": \"AutoML_7634308b-8faa-4f34-9c19-53cef7e3654e_19\", \"run_number\": 1678100993, \"metric\": null, \"status\": \"Canceled\", \"run_type\": null, \"training_percent\": \"100\", \"start_time\": \"2023-03-06T11:09:53.882473Z\", \"end_time\": \"2023-03-06T11:40:23.949317Z\", \"created_time\": \"2023-03-06T11:09:53.882473Z\", \"created_time_dt\": \"2023-03-06T11:09:53.882473Z\", \"duration\": \"0:30:30\", \"iteration\": \"19\", \"goal\": null, \"run_name\": \"Canceled\", \"run_properties\": null}, {\"run_id\": \"AutoML_7634308b-8faa-4f34-9c19-53cef7e3654e_worker_0\", \"run_number\": 1678100994, \"metric\": null, \"status\": \"Canceled\", \"run_type\": \"azureml.scriptrun\", \"training_percent\": null, \"start_time\": \"2023-03-06T11:10:00.427761Z\", \"end_time\": \"2023-03-06T11:40:27.533722Z\", \"created_time\": \"2023-03-06T11:09:54.171653Z\", \"created_time_dt\": \"2023-03-06T11:09:54.171653Z\", \"duration\": \"0:30:33\", \"iteration\": null, \"goal\": null, \"run_name\": \"Canceled\", \"run_properties\": null}, {\"run_id\": \"AutoML_7634308b-8faa-4f34-9c19-53cef7e3654e_20\", \"run_number\": 1678103124, \"metric\": null, \"status\": \"Completed\", \"run_type\": \"azureml.scriptrun\", \"training_percent\": \"100\", \"start_time\": \"2023-03-06T11:45:35.678051Z\", \"end_time\": \"2023-03-06T11:47:15.657957Z\", \"created_time\": \"2023-03-06T11:45:24.77677Z\", \"created_time_dt\": \"2023-03-06T11:45:24.77677Z\", \"duration\": \"0:01:50\", \"iteration\": \"20\", \"goal\": \"accuracy_max\", \"run_name\": \"VotingEnsemble\", \"run_properties\": \"classification_labels=numpy.array([0, 1, 2]\", \"primary_metric\": 0.84969064, \"best_metric\": 0.84969064}, {\"run_id\": \"AutoML_7634308b-8faa-4f34-9c19-53cef7e3654e_21\", \"run_number\": 1678103236, \"metric\": null, \"status\": \"Completed\", \"run_type\": \"azureml.scriptrun\", \"training_percent\": \"100\", \"start_time\": \"2023-03-06T11:47:24.725266Z\", \"end_time\": \"2023-03-06T11:59:29.938509Z\", \"created_time\": \"2023-03-06T11:47:16.150471Z\", \"created_time_dt\": \"2023-03-06T11:47:16.150471Z\", \"duration\": \"0:12:13\", \"iteration\": \"21\", \"goal\": \"accuracy_max\", \"run_name\": \"StackEnsemble\", \"run_properties\": \"base_learners=[('1', Pipeline(memory=None, steps=[('maxabsscaler', MaxAbsScaler(copy=True\", \"primary_metric\": 0.85083184, \"best_metric\": 0.85083184}], \"children_metrics\": {\"categories\": [0], \"series\": {\"recall_score_weighted\": [{\"categories\": [\"0\", \"1\", \"3\", \"5\", \"8\", \"10\", \"13\", \"15\", \"20\", \"21\"], \"mode\": \"markers\", \"name\": \"recall_score_weighted\", \"stepped\": false, \"type\": \"scatter\", \"data\": [0.8489275402172419, 0.849181905678537, 0.8307369723635365, 0.7983363123882853, 0.7753196755121683, 0.8175512168293688, 0.8122989137907327, 0.7198680049498144, 0.8496906366011274, 0.8508318438058572]}, {\"categories\": [\"0\", \"1\", \"3\", \"5\", \"8\", \"10\", \"13\", \"15\", \"20\", \"21\"], \"mode\": \"lines\", \"name\": \"recall_score_weighted_max\", \"stepped\": true, \"type\": \"scatter\", \"data\": [0.8489275402172419, 0.849181905678537, 0.849181905678537, 0.849181905678537, 0.849181905678537, 0.849181905678537, 0.849181905678537, 0.849181905678537, 0.8496906366011274, 0.8508318438058572]}], \"matthews_correlation\": [{\"categories\": [\"0\", \"1\", \"3\", \"5\", \"8\", \"10\", \"13\", \"15\", \"20\", \"21\"], \"mode\": \"markers\", \"name\": \"matthews_correlation\", \"stepped\": false, \"type\": \"scatter\", \"data\": [0.5659447590643139, 0.5668249542858315, 0.49632142501647714, 0.3571556161524815, 0.22439353914143836, 0.4435271800901465, 0.522810258842554, 0.4121146680783309, 0.5669978860237466, 0.5755402093494407]}, {\"categories\": [\"0\", \"1\", \"3\", \"5\", \"8\", \"10\", \"13\", \"15\", \"20\", \"21\"], \"mode\": \"lines\", \"name\": \"matthews_correlation_max\", \"stepped\": true, \"type\": \"scatter\", \"data\": [0.5659447590643139, 0.5668249542858315, 0.5668249542858315, 0.5668249542858315, 0.5668249542858315, 0.5668249542858315, 0.5668249542858315, 0.5668249542858315, 0.5669978860237466, 0.5755402093494407]}], \"balanced_accuracy\": [{\"categories\": [\"0\", \"1\", \"3\", \"5\", \"8\", \"10\", \"13\", \"15\", \"20\", \"21\"], \"mode\": \"markers\", \"name\": \"balanced_accuracy\", \"stepped\": false, \"type\": \"scatter\", \"data\": [0.7158378289257209, 0.7183378339275585, 0.6296030348220112, 0.45843053124674055, 0.3707924355131869, 0.5451858003544225, 0.7450754492996332, 0.7057659576652129, 0.709610524336777, 0.7260442911522238]}, {\"categories\": [\"0\", \"1\", \"3\", \"5\", \"8\", \"10\", \"13\", \"15\", \"20\", \"21\"], \"mode\": \"lines\", \"name\": \"balanced_accuracy_max\", \"stepped\": true, \"type\": \"scatter\", \"data\": [0.7158378289257209, 0.7183378339275585, 0.7183378339275585, 0.7183378339275585, 0.7183378339275585, 0.7183378339275585, 0.7450754492996332, 0.7450754492996332, 0.7450754492996332, 0.7450754492996332]}], \"AUC_macro\": [{\"categories\": [\"0\", \"1\", \"3\", \"5\", \"8\", \"10\", \"13\", \"15\", \"20\", \"21\"], \"mode\": \"markers\", \"name\": \"AUC_macro\", \"stepped\": false, \"type\": \"scatter\", \"data\": [0.9146045431196048, 0.915007771235125, 0.8716501682722564, 0.8799347590856451, 0.8438535564173222, 0.8560483137885612, 0.8856968030065724, 0.8348151397494353, 0.9141096332960205, 0.9107785069772859]}, {\"categories\": [\"0\", \"1\", \"3\", \"5\", \"8\", \"10\", \"13\", \"15\", \"20\", \"21\"], \"mode\": \"lines\", \"name\": \"AUC_macro_max\", \"stepped\": true, \"type\": \"scatter\", \"data\": [0.9146045431196048, 0.915007771235125, 0.915007771235125, 0.915007771235125, 0.915007771235125, 0.915007771235125, 0.915007771235125, 0.915007771235125, 0.915007771235125, 0.915007771235125]}], \"precision_score_weighted\": [{\"categories\": [\"0\", \"1\", \"3\", \"5\", \"8\", \"10\", \"13\", \"15\", \"20\", \"21\"], \"mode\": \"markers\", \"name\": \"precision_score_weighted\", \"stepped\": false, \"type\": \"scatter\", \"data\": [0.8407584463009039, 0.8410298916351913, 0.8211535283918933, 0.8161267278486237, 0.7758835572119505, 0.8060846070883645, 0.8232286488536247, 0.7915717495884748, 0.8417194640896618, 0.843232895887604]}, {\"categories\": [\"0\", \"1\", \"3\", \"5\", \"8\", \"10\", \"13\", \"15\", \"20\", \"21\"], \"mode\": \"lines\", \"name\": \"precision_score_weighted_max\", \"stepped\": true, \"type\": \"scatter\", \"data\": [0.8407584463009039, 0.8410298916351913, 0.8410298916351913, 0.8410298916351913, 0.8410298916351913, 0.8410298916351913, 0.8410298916351913, 0.8410298916351913, 0.8417194640896618, 0.843232895887604]}], \"f1_score_macro\": [{\"categories\": [\"0\", \"1\", \"3\", \"5\", \"8\", \"10\", \"13\", \"15\", \"20\", \"21\"], \"mode\": \"markers\", \"name\": \"f1_score_macro\", \"stepped\": false, \"type\": \"scatter\", \"data\": [0.7522000963466837, 0.7535072670830159, 0.6833597438038648, 0.5038467971295452, 0.3606106318900607, 0.6060416888323236, 0.674180638099332, 0.5741067404882904, 0.7507187479830972, 0.7597469917206005]}, {\"categories\": [\"0\", \"1\", \"3\", \"5\", \"8\", \"10\", \"13\", \"15\", \"20\", \"21\"], \"mode\": \"lines\", \"name\": \"f1_score_macro_max\", \"stepped\": true, \"type\": \"scatter\", \"data\": [0.7522000963466837, 0.7535072670830159, 0.7535072670830159, 0.7535072670830159, 0.7535072670830159, 0.7535072670830159, 0.7535072670830159, 0.7535072670830159, 0.7535072670830159, 0.7597469917206005]}], \"precision_score_macro\": [{\"categories\": [\"0\", \"1\", \"3\", \"5\", \"8\", \"10\", \"13\", \"15\", \"20\", \"21\"], \"mode\": \"markers\", \"name\": \"precision_score_macro\", \"stepped\": false, \"type\": \"scatter\", \"data\": [0.806191765083026, 0.8059084380973092, 0.7893782885094012, 0.8748763168243217, 0.6723530020792522, 0.7790640534372685, 0.6386367277898868, 0.537149056404987, 0.8128161640289214, 0.8066659229397318]}, {\"categories\": [\"0\", \"1\", \"3\", \"5\", \"8\", \"10\", \"13\", \"15\", \"20\", \"21\"], \"mode\": \"lines\", \"name\": \"precision_score_macro_max\", \"stepped\": true, \"type\": \"scatter\", \"data\": [0.806191765083026, 0.806191765083026, 0.806191765083026, 0.8748763168243217, 0.8748763168243217, 0.8748763168243217, 0.8748763168243217, 0.8748763168243217, 0.8748763168243217, 0.8748763168243217]}], \"recall_score_macro\": [{\"categories\": [\"0\", \"1\", \"3\", \"5\", \"8\", \"10\", \"13\", \"15\", \"20\", \"21\"], \"mode\": \"markers\", \"name\": \"recall_score_macro\", \"stepped\": false, \"type\": \"scatter\", \"data\": [0.7158378289257209, 0.7183378339275585, 0.6296030348220112, 0.45843053124674055, 0.3707924355131869, 0.5451858003544225, 0.7450754492996332, 0.7057659576652129, 0.709610524336777, 0.7260442911522238]}, {\"categories\": [\"0\", \"1\", \"3\", \"5\", \"8\", \"10\", \"13\", \"15\", \"20\", \"21\"], \"mode\": \"lines\", \"name\": \"recall_score_macro_max\", \"stepped\": true, \"type\": \"scatter\", \"data\": [0.7158378289257209, 0.7183378339275585, 0.7183378339275585, 0.7183378339275585, 0.7183378339275585, 0.7183378339275585, 0.7450754492996332, 0.7450754492996332, 0.7450754492996332, 0.7450754492996332]}], \"recall_score_micro\": [{\"categories\": [\"0\", \"1\", \"3\", \"5\", \"8\", \"10\", \"13\", \"15\", \"20\", \"21\"], \"mode\": \"markers\", \"name\": \"recall_score_micro\", \"stepped\": false, \"type\": \"scatter\", \"data\": [0.8489275402172419, 0.849181905678537, 0.8307369723635365, 0.7983363123882853, 0.7753196755121683, 0.8175512168293688, 0.8122989137907327, 0.7198680049498144, 0.8496906366011274, 0.8508318438058572]}, {\"categories\": [\"0\", \"1\", \"3\", \"5\", \"8\", \"10\", \"13\", \"15\", \"20\", \"21\"], \"mode\": \"lines\", \"name\": \"recall_score_micro_max\", \"stepped\": true, \"type\": \"scatter\", \"data\": [0.8489275402172419, 0.849181905678537, 0.849181905678537, 0.849181905678537, 0.849181905678537, 0.849181905678537, 0.849181905678537, 0.849181905678537, 0.8496906366011274, 0.8508318438058572]}], \"average_precision_score_macro\": [{\"categories\": [\"0\", \"1\", \"3\", \"5\", \"8\", \"10\", \"13\", \"15\", \"20\", \"21\"], \"mode\": \"markers\", \"name\": \"average_precision_score_macro\", \"stepped\": false, \"type\": \"scatter\", \"data\": [0.8281484046056005, 0.8296515264712987, 0.762639174709606, 0.7535267684963967, 0.6670380875318849, 0.689850142689026, 0.7345645169066393, 0.6515429043692643, 0.8280304679611998, 0.8244050911556757]}, {\"categories\": [\"0\", \"1\", \"3\", \"5\", \"8\", \"10\", \"13\", \"15\", \"20\", \"21\"], \"mode\": \"lines\", \"name\": \"average_precision_score_macro_max\", \"stepped\": true, \"type\": \"scatter\", \"data\": [0.8281484046056005, 0.8296515264712987, 0.8296515264712987, 0.8296515264712987, 0.8296515264712987, 0.8296515264712987, 0.8296515264712987, 0.8296515264712987, 0.8296515264712987, 0.8296515264712987]}], \"precision_score_micro\": [{\"categories\": [\"0\", \"1\", \"3\", \"5\", \"8\", \"10\", \"13\", \"15\", \"20\", \"21\"], \"mode\": \"markers\", \"name\": \"precision_score_micro\", \"stepped\": false, \"type\": \"scatter\", \"data\": [0.8489275402172419, 0.849181905678537, 0.8307369723635365, 0.7983363123882853, 0.7753196755121683, 0.8175512168293688, 0.8122989137907327, 0.7198680049498144, 0.8496906366011274, 0.8508318438058572]}, {\"categories\": [\"0\", \"1\", \"3\", \"5\", \"8\", \"10\", \"13\", \"15\", \"20\", \"21\"], \"mode\": \"lines\", \"name\": \"precision_score_micro_max\", \"stepped\": true, \"type\": \"scatter\", \"data\": [0.8489275402172419, 0.849181905678537, 0.849181905678537, 0.849181905678537, 0.849181905678537, 0.849181905678537, 0.849181905678537, 0.849181905678537, 0.8496906366011274, 0.8508318438058572]}], \"average_precision_score_weighted\": [{\"categories\": [\"0\", \"1\", \"3\", \"5\", \"8\", \"10\", \"13\", \"15\", \"20\", \"21\"], \"mode\": \"markers\", \"name\": \"average_precision_score_weighted\", \"stepped\": false, \"type\": \"scatter\", \"data\": [0.9040534778161009, 0.904321260657866, 0.8733990337841467, 0.8725059444046647, 0.8404905721058531, 0.8556001659232579, 0.8748715699930127, 0.8335559500373104, 0.9043441860718222, 0.9033832191918438]}, {\"categories\": [\"0\", \"1\", \"3\", \"5\", \"8\", \"10\", \"13\", \"15\", \"20\", \"21\"], \"mode\": \"lines\", \"name\": \"average_precision_score_weighted_max\", \"stepped\": true, \"type\": \"scatter\", \"data\": [0.9040534778161009, 0.904321260657866, 0.904321260657866, 0.904321260657866, 0.904321260657866, 0.904321260657866, 0.904321260657866, 0.904321260657866, 0.9043441860718222, 0.9043441860718222]}], \"weighted_accuracy\": [{\"categories\": [\"0\", \"1\", \"3\", \"5\", \"8\", \"10\", \"13\", \"15\", \"20\", \"21\"], \"mode\": \"markers\", \"name\": \"weighted_accuracy\", \"stepped\": false, \"type\": \"scatter\", \"data\": [0.914641282243968, 0.9148024599612226, 0.9174527199348013, 0.9308920922428386, 0.9239557425430107, 0.9157630285837136, 0.8499253250600851, 0.7284274621809078, 0.916739299424487, 0.91141663476231]}, {\"categories\": [\"0\", \"1\", \"3\", \"5\", \"8\", \"10\", \"13\", \"15\", \"20\", \"21\"], \"mode\": \"lines\", \"name\": \"weighted_accuracy_max\", \"stepped\": true, \"type\": \"scatter\", \"data\": [0.914641282243968, 0.9148024599612226, 0.9174527199348013, 0.9308920922428386, 0.9308920922428386, 0.9308920922428386, 0.9308920922428386, 0.9308920922428386, 0.9308920922428386, 0.9308920922428386]}], \"average_precision_score_micro\": [{\"categories\": [\"0\", \"1\", \"3\", \"5\", \"8\", \"10\", \"13\", \"15\", \"20\", \"21\"], \"mode\": \"markers\", \"name\": \"average_precision_score_micro\", \"stepped\": false, \"type\": \"scatter\", \"data\": [0.9259608720694615, 0.9263983448114507, 0.9005259658209074, 0.8877525842964499, 0.8728223458543857, 0.8873458352337377, 0.8852987796855751, 0.7583302945994155, 0.9262086409755881, 0.9247244726458771]}, {\"categories\": [\"0\", \"1\", \"3\", \"5\", \"8\", \"10\", \"13\", \"15\", \"20\", \"21\"], \"mode\": \"lines\", \"name\": \"average_precision_score_micro_max\", \"stepped\": true, \"type\": \"scatter\", \"data\": [0.9259608720694615, 0.9263983448114507, 0.9263983448114507, 0.9263983448114507, 0.9263983448114507, 0.9263983448114507, 0.9263983448114507, 0.9263983448114507, 0.9263983448114507, 0.9263983448114507]}], \"accuracy\": [{\"categories\": [\"0\", \"1\", \"3\", \"5\", \"8\", \"10\", \"13\", \"15\", \"20\", \"21\"], \"mode\": \"markers\", \"name\": \"accuracy\", \"stepped\": false, \"type\": \"scatter\", \"data\": [0.8489275402172419, 0.849181905678537, 0.8307369723635365, 0.7983363123882853, 0.7753196755121683, 0.8175512168293688, 0.8122989137907327, 0.7198680049498144, 0.8496906366011274, 0.8508318438058572]}, {\"categories\": [\"0\", \"1\", \"3\", \"5\", \"8\", \"10\", \"13\", \"15\", \"20\", \"21\"], \"mode\": \"lines\", \"name\": \"accuracy_max\", \"stepped\": true, \"type\": \"scatter\", \"data\": [0.8489275402172419, 0.849181905678537, 0.849181905678537, 0.849181905678537, 0.849181905678537, 0.849181905678537, 0.849181905678537, 0.849181905678537, 0.8496906366011274, 0.8508318438058572]}], \"AUC_weighted\": [{\"categories\": [\"0\", \"1\", \"3\", \"5\", \"8\", \"10\", \"13\", \"15\", \"20\", \"21\"], \"mode\": \"markers\", \"name\": \"AUC_weighted\", \"stepped\": false, \"type\": \"scatter\", \"data\": [0.8898756286992032, 0.8904477848356922, 0.8518997894985485, 0.8521972969720695, 0.8178775634563855, 0.8327323829247562, 0.8630885520880345, 0.8075995451998214, 0.8905187288178199, 0.8899019923437719]}, {\"categories\": [\"0\", \"1\", \"3\", \"5\", \"8\", \"10\", \"13\", \"15\", \"20\", \"21\"], \"mode\": \"lines\", \"name\": \"AUC_weighted_max\", \"stepped\": true, \"type\": \"scatter\", \"data\": [0.8898756286992032, 0.8904477848356922, 0.8904477848356922, 0.8904477848356922, 0.8904477848356922, 0.8904477848356922, 0.8904477848356922, 0.8904477848356922, 0.8905187288178199, 0.8905187288178199]}], \"log_loss\": [{\"categories\": [\"0\", \"1\", \"3\", \"5\", \"8\", \"10\", \"13\", \"15\", \"20\", \"21\"], \"mode\": \"markers\", \"name\": \"log_loss\", \"stepped\": false, \"type\": \"scatter\", \"data\": [0.3614619792232098, 0.35982838571795245, 1.0145571305657946, 0.476898072463711, 0.4930170256988114, 0.45165712367007105, 0.7371810171980193, 0.8774176152730189, 0.3920330455144648, 0.36750640890250463]}, {\"categories\": [\"0\", \"1\", \"3\", \"5\", \"8\", \"10\", \"13\", \"15\", \"20\", \"21\"], \"mode\": \"lines\", \"name\": \"log_loss_min\", \"stepped\": true, \"type\": \"scatter\", \"data\": [0.3614619792232098, 0.35982838571795245, 0.35982838571795245, 0.35982838571795245, 0.35982838571795245, 0.35982838571795245, 0.35982838571795245, 0.35982838571795245, 0.35982838571795245, 0.35982838571795245]}], \"AUC_micro\": [{\"categories\": [\"0\", \"1\", \"3\", \"5\", \"8\", \"10\", \"13\", \"15\", \"20\", \"21\"], \"mode\": \"markers\", \"name\": \"AUC_micro\", \"stepped\": false, \"type\": \"scatter\", \"data\": [0.9618729436150716, 0.9620955986426821, 0.9496806915960402, 0.9413433020340521, 0.9329144846866985, 0.9425359788257562, 0.9385433758210299, 0.8640147352579598, 0.9619771231823169, 0.9614837026924773]}, {\"categories\": [\"0\", \"1\", \"3\", \"5\", \"8\", \"10\", \"13\", \"15\", \"20\", \"21\"], \"mode\": \"lines\", \"name\": \"AUC_micro_max\", \"stepped\": true, \"type\": \"scatter\", \"data\": [0.9618729436150716, 0.9620955986426821, 0.9620955986426821, 0.9620955986426821, 0.9620955986426821, 0.9620955986426821, 0.9620955986426821, 0.9620955986426821, 0.9620955986426821, 0.9620955986426821]}], \"f1_score_micro\": [{\"categories\": [\"0\", \"1\", \"3\", \"5\", \"8\", \"10\", \"13\", \"15\", \"20\", \"21\"], \"mode\": \"markers\", \"name\": \"f1_score_micro\", \"stepped\": false, \"type\": \"scatter\", \"data\": [0.8489275402172419, 0.849181905678537, 0.8307369723635365, 0.7983363123882853, 0.7753196755121683, 0.8175512168293688, 0.8122989137907327, 0.7198680049498144, 0.8496906366011274, 0.8508318438058572]}, {\"categories\": [\"0\", \"1\", \"3\", \"5\", \"8\", \"10\", \"13\", \"15\", \"20\", \"21\"], \"mode\": \"lines\", \"name\": \"f1_score_micro_max\", \"stepped\": true, \"type\": \"scatter\", \"data\": [0.8489275402172419, 0.849181905678537, 0.849181905678537, 0.849181905678537, 0.849181905678537, 0.849181905678537, 0.849181905678537, 0.849181905678537, 0.8496906366011274, 0.8508318438058572]}], \"f1_score_weighted\": [{\"categories\": [\"0\", \"1\", \"3\", \"5\", \"8\", \"10\", \"13\", \"15\", \"20\", \"21\"], \"mode\": \"markers\", \"name\": \"f1_score_weighted\", \"stepped\": false, \"type\": \"scatter\", \"data\": [0.8392829866454268, 0.8395359610178813, 0.8121235078525434, 0.742805676532879, 0.6986372563370673, 0.7929833111945868, 0.8160868173828584, 0.7422683296360642, 0.839591474312475, 0.8431075799557469]}, {\"categories\": [\"0\", \"1\", \"3\", \"5\", \"8\", \"10\", \"13\", \"15\", \"20\", \"21\"], \"mode\": \"lines\", \"name\": \"f1_score_weighted_max\", \"stepped\": true, \"type\": \"scatter\", \"data\": [0.8392829866454268, 0.8395359610178813, 0.8395359610178813, 0.8395359610178813, 0.8395359610178813, 0.8395359610178813, 0.8395359610178813, 0.8395359610178813, 0.839591474312475, 0.8431075799557469]}], \"norm_macro_recall\": [{\"categories\": [\"0\", \"1\", \"3\", \"5\", \"8\", \"10\", \"13\", \"15\", \"20\", \"21\"], \"mode\": \"markers\", \"name\": \"norm_macro_recall\", \"stepped\": false, \"type\": \"scatter\", \"data\": [0.5737567433885813, 0.5775067508913379, 0.44440455223301684, 0.18764579687011068, 0.056188653269780384, 0.31777870053163393, 0.6176131739494499, 0.5586489364978192, 0.5644157865051652, 0.5890664367283358]}, {\"categories\": [\"0\", \"1\", \"3\", \"5\", \"8\", \"10\", \"13\", \"15\", \"20\", \"21\"], \"mode\": \"lines\", \"name\": \"norm_macro_recall_max\", \"stepped\": true, \"type\": \"scatter\", \"data\": [0.5737567433885813, 0.5775067508913379, 0.5775067508913379, 0.5775067508913379, 0.5775067508913379, 0.5775067508913379, 0.6176131739494499, 0.6176131739494499, 0.6176131739494499, 0.6176131739494499]}]}, \"metricName\": null, \"primaryMetricName\": \"accuracy\", \"showLegend\": false}, \"run_metrics\": [{\"name\": \"experiment_status\", \"run_id\": \"AutoML_7634308b-8faa-4f34-9c19-53cef7e3654e\", \"categories\": [0, 1, 2, 3, 4, 5, 6, 7, 8, 9, 10, 11, 12, 13, 14], \"series\": [{\"data\": [\"DatasetEvaluation\", \"FeaturesGeneration\", \"DatasetFeaturization\", \"DatasetFeaturizationCompleted\", \"DatasetBalancing\", \"DatasetCrossValidationSplit\", \"ModelSelection\", \"BestRunExplainModel\", \"ModelExplanationDataSetSetup\", \"PickSurrogateModel\", \"EngineeredFeatureExplanations\", \"EngineeredFeatureExplanations\", \"RawFeaturesExplanations\", \"RawFeaturesExplanations\", \"BestRunExplainModel\"]}]}, {\"name\": \"experiment_status_description\", \"run_id\": \"AutoML_7634308b-8faa-4f34-9c19-53cef7e3654e\", \"categories\": [0, 1, 2, 3, 4, 5, 6, 7, 8, 9, 10, 11, 12, 13, 14], \"series\": [{\"data\": [\"Gathering dataset statistics.\", \"Generating features for the dataset.\", \"Beginning to fit featurizers and featurize the dataset.\", \"Completed fit featurizers and featurizing the dataset.\", \"Performing class balancing sweeping\", \"Generating individually featurized CV splits.\", \"Beginning model selection.\", \"Best run model explanations started\", \"Model explanations data setup completed\", \"Choosing LightGBM as the surrogate model for explanations\", \"Computation of engineered features started\", \"Computation of engineered features completed\", \"Computation of raw features started\", \"Computation of raw features completed\", \"Best run model explanations completed\"]}]}, {\"name\": \"precision_score_micro\", \"run_id\": \"AutoML_7634308b-8faa-4f34-9c19-53cef7e3654e\", \"categories\": [0], \"series\": [{\"data\": [0.8508318438058572]}]}, {\"name\": \"AUC_micro\", \"run_id\": \"AutoML_7634308b-8faa-4f34-9c19-53cef7e3654e\", \"categories\": [0], \"series\": [{\"data\": [0.9614837026924773]}]}, {\"name\": \"average_precision_score_macro\", \"run_id\": \"AutoML_7634308b-8faa-4f34-9c19-53cef7e3654e\", \"categories\": [0], \"series\": [{\"data\": [0.8244050911556757]}]}, {\"name\": \"precision_score_macro\", \"run_id\": \"AutoML_7634308b-8faa-4f34-9c19-53cef7e3654e\", \"categories\": [0], \"series\": [{\"data\": [0.8066659229397318]}]}, {\"name\": \"f1_score_weighted\", \"run_id\": \"AutoML_7634308b-8faa-4f34-9c19-53cef7e3654e\", \"categories\": [0], \"series\": [{\"data\": [0.8431075799557469]}]}, {\"name\": \"matthews_correlation\", \"run_id\": \"AutoML_7634308b-8faa-4f34-9c19-53cef7e3654e\", \"categories\": [0], \"series\": [{\"data\": [0.5755402093494407]}]}, {\"name\": \"norm_macro_recall\", \"run_id\": \"AutoML_7634308b-8faa-4f34-9c19-53cef7e3654e\", \"categories\": [0], \"series\": [{\"data\": [0.5890664367283358]}]}, {\"name\": \"balanced_accuracy\", \"run_id\": \"AutoML_7634308b-8faa-4f34-9c19-53cef7e3654e\", \"categories\": [0], \"series\": [{\"data\": [0.7260442911522238]}]}, {\"name\": \"AUC_weighted\", \"run_id\": \"AutoML_7634308b-8faa-4f34-9c19-53cef7e3654e\", \"categories\": [0], \"series\": [{\"data\": [0.8899019923437719]}]}, {\"name\": \"AUC_macro\", \"run_id\": \"AutoML_7634308b-8faa-4f34-9c19-53cef7e3654e\", \"categories\": [0], \"series\": [{\"data\": [0.9107785069772859]}]}, {\"name\": \"f1_score_macro\", \"run_id\": \"AutoML_7634308b-8faa-4f34-9c19-53cef7e3654e\", \"categories\": [0], \"series\": [{\"data\": [0.7597469917206005]}]}, {\"name\": \"average_precision_score_weighted\", \"run_id\": \"AutoML_7634308b-8faa-4f34-9c19-53cef7e3654e\", \"categories\": [0], \"series\": [{\"data\": [0.9033832191918438]}]}, {\"name\": \"recall_score_macro\", \"run_id\": \"AutoML_7634308b-8faa-4f34-9c19-53cef7e3654e\", \"categories\": [0], \"series\": [{\"data\": [0.7260442911522238]}]}, {\"name\": \"accuracy\", \"run_id\": \"AutoML_7634308b-8faa-4f34-9c19-53cef7e3654e\", \"categories\": [0], \"series\": [{\"data\": [0.8508318438058572]}]}, {\"name\": \"precision_score_weighted\", \"run_id\": \"AutoML_7634308b-8faa-4f34-9c19-53cef7e3654e\", \"categories\": [0], \"series\": [{\"data\": [0.843232895887604]}]}, {\"name\": \"average_precision_score_micro\", \"run_id\": \"AutoML_7634308b-8faa-4f34-9c19-53cef7e3654e\", \"categories\": [0], \"series\": [{\"data\": [0.9247244726458771]}]}, {\"name\": \"weighted_accuracy\", \"run_id\": \"AutoML_7634308b-8faa-4f34-9c19-53cef7e3654e\", \"categories\": [0], \"series\": [{\"data\": [0.91141663476231]}]}, {\"name\": \"f1_score_micro\", \"run_id\": \"AutoML_7634308b-8faa-4f34-9c19-53cef7e3654e\", \"categories\": [0], \"series\": [{\"data\": [0.8508318438058572]}]}, {\"name\": \"recall_score_weighted\", \"run_id\": \"AutoML_7634308b-8faa-4f34-9c19-53cef7e3654e\", \"categories\": [0], \"series\": [{\"data\": [0.8508318438058572]}]}, {\"name\": \"recall_score_micro\", \"run_id\": \"AutoML_7634308b-8faa-4f34-9c19-53cef7e3654e\", \"categories\": [0], \"series\": [{\"data\": [0.8508318438058572]}]}, {\"name\": \"log_loss\", \"run_id\": \"AutoML_7634308b-8faa-4f34-9c19-53cef7e3654e\", \"categories\": [0], \"series\": [{\"data\": [0.36750640890250463]}]}], \"run_logs\": \"\\nRun is completed.\", \"graph\": {}, \"widget_settings\": {\"childWidgetDisplay\": \"popup\", \"send_telemetry\": false, \"log_level\": \"INFO\", \"sdk_version\": \"1.48.0\"}, \"loading\": false}"
          },
          "metadata": {}
        }
      ],
      "execution_count": 8,
      "metadata": {
        "gather": {
          "logged": 1678104031682
        },
        "jupyter": {
          "outputs_hidden": false,
          "source_hidden": false
        },
        "nteract": {
          "transient": {
            "deleting": false
          }
        }
      }
    },
    {
      "cell_type": "markdown",
      "source": [
        "## Best Model\n",
        "\n",
        "TODO: In the cell below, get the best model from the automl experiments and display all the properties of the model.\n",
        "\n"
      ],
      "metadata": {}
    },
    {
      "cell_type": "code",
      "source": [
        "# Retrieve and save your best automl model.\n",
        "best_run,best_model_output = automl_run.get_output()\n",
        "print('best model:',best_run.id,best_model_output)\n"
      ],
      "outputs": [
        {
          "output_type": "stream",
          "name": "stdout",
          "text": "best model: AutoML_7634308b-8faa-4f34-9c19-53cef7e3654e_21 Pipeline(memory=None,\n         steps=[('datatransformer',\n                 DataTransformer(enable_dnn=False, enable_feature_sweeping=True, feature_sweeping_config={}, feature_sweeping_timeout=86400, featurization_config=None, force_text_dnn=False, is_cross_validation=True, is_onnx_compatible=False, observer=None, task='classification', working_dir='/mnt/batch/tasks/shared/LS_root/mount...\n                 StackEnsembleClassifier(base_learners=[('1', Pipeline(memory=None, steps=[('maxabsscaler', MaxAbsScaler(copy=True)), ('xgboostclassifier', XGBoostClassifier(n_jobs=1, problem_info=ProblemInfo(gpu_training_param_dict={'processing_unit_type': 'cpu'}), random_state=0, tree_method='auto'))], verbose=False)), ('0', Pipeline(memory=None, steps=[('maxabsscaler', MaxAbsScaler(copy=True)), ('lightgbmclassifier', LightGBMClassifier(min_data_in_leaf=20, n_jobs=1, problem_info=ProblemInfo(gpu_training_param_dict={'processing_unit_type': 'cpu'}), random_state=None))], verbose=False)), ('14', Pipeline(memory=None, steps=[('standardscalerwrapper', StandardScalerWrapper(copy=True, with_mean=False, with_std=False)), ('xgboostclassifier', XGBoostClassifier(booster='gbtree', colsample_bytree=1, eta=0.3, gamma=0, max_depth=10, max_leaves=511, n_estimators=10, n_jobs=1, objective='reg:logistic', problem_info=ProblemInfo(gpu_training_param_dict={'processing_unit_type': 'cpu'}), random_state=0, reg_alpha=2.1875, reg_lambda=0.4166666666666667, subsample=0.5, tree_method='auto'))], verbose=False)), ('6', Pipeline(memory=None, steps=[('standardscalerwrapper', StandardScalerWrapper(copy=True, with_mean=False, with_std=False)), ('xgboostclassifier', XGBoostClassifier(booster='gbtree', colsample_bytree=0.5, eta=0.3, gamma=0, max_depth=10, max_leaves=255, n_estimators=10, n_jobs=1, objective='reg:logistic', problem_info=ProblemInfo(gpu_training_param_dict={'processing_unit_type': 'cpu'}), random_state=0, reg_alpha=0, reg_lambda=0.10416666666666667, subsample=0.7, tree_method='auto'))], verbose=False)), ('9', Pipeline(memory=None, steps=[('standardscalerwrapper', StandardScalerWrapper(copy=True, with_mean=False, with_std=False)), ('xgboostclassifier', XGBoostClassifier(booster='gbtree', colsample_bytree=0.5, eta=0.5, gamma=0, max_depth=6, max_leaves=3, n_estimators=10, n_jobs=1, objective='reg:logistic', problem_info=ProblemInfo(gpu_training_param_dict={'processing_unit_type': 'cpu'}), random_state=0, reg_alpha=0.7291666666666667, reg_lambda=2.3958333333333335, subsample=0.8, tree_method='auto'))], verbose=False)), ('7', Pipeline(memory=None, steps=[('maxabsscaler', MaxAbsScaler(copy=True)), ('logisticregression', LogisticRegression(C=1.7575106248547894, class_weight=None, dual=False, fit_intercept=True, intercept_scaling=1, l1_ratio=None, max_iter=100, multi_class='multinomial', n_jobs=1, penalty='l2', random_state=None, solver='lbfgs', tol=0.0001, verbose=0, warm_start=False))], verbose=False)), ('3', Pipeline(memory=None, steps=[('sparsenormalizer', Normalizer(copy=True, norm='l2')), ('xgboostclassifier', XGBoostClassifier(booster='gbtree', colsample_bytree=0.7, eta=0.01, gamma=0.01, max_depth=7, max_leaves=31, n_estimators=10, n_jobs=1, objective='reg:logistic', problem_info=ProblemInfo(gpu_training_param_dict={'processing_unit_type': 'cpu'}), random_state=0, reg_alpha=2.1875, reg_lambda=1.0416666666666667, subsample=1, tree_method='auto'))], verbose=False)), ('13', Pipeline(memory=None, steps=[('maxabsscaler', MaxAbsScaler(copy=True)), ('sgdclassifierwrapper', SGDClassifierWrapper(alpha=7.5510448979591835, class_weight='balanced', eta0=0.001, fit_intercept=True, l1_ratio=0.42857142857142855, learning_rate='constant', loss='modified_huber', max_iter=1000, n_jobs=1, penalty='none', power_t=0.7777777777777777, random_state=None, tol=0.0001))], verbose=False))], meta_learner=LogisticRegressionCV(Cs=10, class_weight=None, cv=None, dual=False, fit_intercept=True, intercept_scaling=1.0, l1_ratios=None, max_iter=100, multi_class='auto', n_jobs=None, penalty='l2', random_state=None, refit=True, scoring=Scorer(metric='accuracy'), solver='lbfgs', tol=0.0001, verbose=0), training_cv_folds=5))],\n         verbose=False)\nY_transformer(['LabelEncoder', LabelEncoder()])\n"
        }
      ],
      "execution_count": 9,
      "metadata": {
        "gather": {
          "logged": 1678104072998
        },
        "jupyter": {
          "outputs_hidden": false,
          "source_hidden": false
        },
        "nteract": {
          "transient": {
            "deleting": false
          }
        }
      }
    },
    {
      "cell_type": "code",
      "source": [
        "#TODO: Save the best model\n",
        "# I am not sure whether saving like that will work\n",
        "#saved_model=best_run.register_model(model_name='bestmodel_all',model_path=pp)\n",
        "from azureml.core.model import Model\n",
        "saved_model = Model.register(ws, model_path='bestmodel_all.joblib', model_name='bestmodel_all')#, tags=best_run_metrics)"
      ],
      "outputs": [
        {
          "output_type": "stream",
          "name": "stdout",
          "text": "Registering model bestmodel_all\n"
        }
      ],
      "execution_count": 65,
      "metadata": {
        "gather": {
          "logged": 1678106643967
        },
        "jupyter": {
          "outputs_hidden": false,
          "source_hidden": false
        },
        "nteract": {
          "transient": {
            "deleting": false
          }
        }
      }
    },
    {
      "cell_type": "code",
      "source": [
        "#pp"
      ],
      "outputs": [],
      "execution_count": 66,
      "metadata": {
        "jupyter": {
          "source_hidden": false,
          "outputs_hidden": false
        },
        "nteract": {
          "transient": {
            "deleting": false
          }
        },
        "gather": {
          "logged": 1678106646354
        }
      }
    },
    {
      "cell_type": "code",
      "source": [
        "1"
      ],
      "outputs": [
        {
          "output_type": "execute_result",
          "execution_count": 67,
          "data": {
            "text/plain": "1"
          },
          "metadata": {}
        }
      ],
      "execution_count": 67,
      "metadata": {
        "jupyter": {
          "source_hidden": false,
          "outputs_hidden": false
        },
        "nteract": {
          "transient": {
            "deleting": false
          }
        },
        "gather": {
          "logged": 1678106646845
        }
      }
    },
    {
      "cell_type": "code",
      "source": [
        "import joblib\n",
        "#best_run.download_files(output_directory='./')\n",
        "param_values = best_run.get_details()['runDefinition']['arguments']\n",
        "#save the best model obtained\n",
        "joblib.dump(best_model_output, filename='bestmodel_all.joblib')"
      ],
      "outputs": [
        {
          "output_type": "execute_result",
          "execution_count": 68,
          "data": {
            "text/plain": "['bestmodel_all.joblib']"
          },
          "metadata": {}
        }
      ],
      "execution_count": 68,
      "metadata": {
        "jupyter": {
          "source_hidden": false,
          "outputs_hidden": false
        },
        "nteract": {
          "transient": {
            "deleting": false
          }
        },
        "gather": {
          "logged": 1678106647960
        }
      }
    },
    {
      "cell_type": "code",
      "source": [
        "best_run_metrics = best_run.get_metrics()\n",
        "\n",
        "print('The best run automl model\\n', best_run)\n",
        "\n",
        "print('\\nThe Id for best run is:', best_run.id)\n",
        "print('The Accuracy: is', best_run_metrics['accuracy'])"
      ],
      "outputs": [
        {
          "output_type": "stream",
          "name": "stdout",
          "text": "The best run automl model\n Run(Experiment: automl-rain,\nId: AutoML_7634308b-8faa-4f34-9c19-53cef7e3654e_21,\nType: azureml.scriptrun,\nStatus: Completed)\n\nThe Id for best run is: AutoML_7634308b-8faa-4f34-9c19-53cef7e3654e_21\nThe Accuracy: is 0.8508318438058572\n"
        }
      ],
      "execution_count": 69,
      "metadata": {
        "jupyter": {
          "source_hidden": false,
          "outputs_hidden": false
        },
        "nteract": {
          "transient": {
            "deleting": false
          }
        },
        "gather": {
          "logged": 1678106650833
        }
      }
    },
    {
      "cell_type": "code",
      "source": [
        "!pwd"
      ],
      "outputs": [
        {
          "output_type": "stream",
          "name": "stdout",
          "text": "/mnt/batch/tasks/shared/LS_root/mounts/clusters/vzeizer1/code/Users/vzeizer\r\n"
        }
      ],
      "execution_count": 70,
      "metadata": {
        "jupyter": {
          "source_hidden": false,
          "outputs_hidden": false
        },
        "nteract": {
          "transient": {
            "deleting": false
          }
        },
        "gather": {
          "logged": 1678032073318
        }
      }
    },
    {
      "cell_type": "code",
      "source": [
        "os.environ['AZUREML_MODEL_DIR'] = \"/mnt/batch/tasks/shared/LS_root/mounts/clusters/vzeizer1/code/Users/vzeizer\""
      ],
      "outputs": [],
      "execution_count": 71,
      "metadata": {
        "jupyter": {
          "source_hidden": false,
          "outputs_hidden": false
        },
        "nteract": {
          "transient": {
            "deleting": false
          }
        },
        "gather": {
          "logged": 1678106651418
        }
      }
    },
    {
      "cell_type": "code",
      "source": [
        "from azureml.core.model import Model\n",
        "\n",
        "#pp=Model.get_model_path('bestmodel_all.joblib')\n",
        "pp=os.path.join(os.getenv('AZUREML_MODEL_DIR'), 'bestmodel_all.joblib')\n",
        "m1=joblib.load(pp)\n",
        "#import pickle\n",
        "#with open(pp, 'rb') as f:\n",
        "#    m1 = pickle.load(f)\n"
      ],
      "outputs": [],
      "execution_count": 72,
      "metadata": {
        "jupyter": {
          "source_hidden": false,
          "outputs_hidden": false
        },
        "nteract": {
          "transient": {
            "deleting": false
          }
        },
        "gather": {
          "logged": 1678106651773
        }
      }
    },
    {
      "cell_type": "code",
      "source": [
        "m1"
      ],
      "outputs": [
        {
          "output_type": "execute_result",
          "execution_count": 73,
          "data": {
            "text/plain": "PipelineWithYTransformations(Pipeline={'memory': None,\n                                       'steps': [('datatransformer',\n                                                  DataTransformer(enable_dnn=False, enable_feature_sweeping=True, feature_sweeping_config={}, feature_sweeping_timeout=86400, featurization_config=None, force_text_dnn=False, is_cross_validation=True, is_onnx_compatible=False, observer=None, task='classification', working_dir='/mn...\n                                                  StackEnsembleClassifier(base_learners=[('1', Pipeline(memory=None, steps=[('maxabsscaler', MaxAbsScaler(copy=True)), ('xgboostclassifier', XGBoostClassifier(n_jobs=1, problem_info=ProblemInfo(gpu_training_param_dict={'processing_unit_type': 'cpu'}), random_state=0, tree_method='auto'))], verbose=False)), ('0', Pipeline(memory=None, steps=[('maxabsscaler', MaxAbsScaler(copy=True)), ('lightgbmclassifier', LightGBMClassifier(min_data_in_leaf=20, n_jobs=1, problem_info=ProblemInfo(gpu_training_param_dict={'processing_unit_type': 'cpu'}), random_state=None))], verbose=False)), ('14', Pipeline(memory=None, steps=[('standardscalerwrapper', StandardScalerWrapper(copy=True, with_mean=False, with_std=False)), ('xgboostclassifier', XGBoostClassifier(booster='gbtree', colsample_bytree=1, eta=0.3, gamma=0, max_depth=10, max_leaves=511, n_estimators=10, n_jobs=1, objective='reg:logistic', problem_info=ProblemInfo(gpu_training_param_dict={'processing_unit_type': 'cpu'}), random_state=0, reg_alpha=2.1875, reg_lambda=0.4166666666666667, subsample=0.5, tree_method='auto'))], verbose=False)), ('6', Pipeline(memory=None, steps=[('standardscalerwrapper', StandardScalerWrapper(copy=True, with_mean=False, with_std=False)), ('xgboostclassifier', XGBoostClassifier(booster='gbtree', colsample_bytree=0.5, eta=0.3, gamma=0, max_depth=10, max_leaves=255, n_estimators=10, n_jobs=1, objective='reg:logistic', problem_info=ProblemInfo(gpu_training_param_dict={'processing_unit_type': 'cpu'}), random_state=0, reg_alpha=0, reg_lambda=0.10416666666666667, subsample=0.7, tree_method='auto'))], verbose=False)), ('9', Pipeline(memory=None, steps=[('standardscalerwrapper', StandardScalerWrapper(copy=True, with_mean=False, with_std=False)), ('xgboostclassifier', XGBoostClassifier(booster='gbtree', colsample_bytree=0.5, eta=0.5, gamma=0, max_depth=6, max_leaves=3, n_estimators=10, n_jobs=1, objective='reg:logistic', problem_info=ProblemInfo(gpu_training_param_dict={'processing_unit_type': 'cpu'}), random_state=0, reg_alpha=0.7291666666666667, reg_lambda=2.3958333333333335, subsample=0.8, tree_method='auto'))], verbose=False)), ('7', Pipeline(memory=None, steps=[('maxabsscaler', MaxAbsScaler(copy=True)), ('logisticregression', LogisticRegression(C=1.7575106248547894, class_weight=None, dual=False, fit_intercept=True, intercept_scaling=1, l1_ratio=None, max_iter=100, multi_class='multinomial', n_jobs=1, penalty='l2', random_state=None, solver='lbfgs', tol=0.0001, verbose=0, warm_start=False))], verbose=False)), ('3', Pipeline(memory=None, steps=[('sparsenormalizer', Normalizer(copy=True, norm='l2')), ('xgboostclassifier', XGBoostClassifier(booster='gbtree', colsample_bytree=0.7, eta=0.01, gamma=0.01, max_depth=7, max_leaves=31, n_estimators=10, n_jobs=1, objective='reg:logistic', problem_info=ProblemInfo(gpu_training_param_dict={'processing_unit_type': 'cpu'}), random_state=0, reg_alpha=2.1875, reg_lambda=1.0416666666666667, subsample=1, tree_method='auto'))], verbose=False)), ('13', Pipeline(memory=None, steps=[('maxabsscaler', MaxAbsScaler(copy=True)), ('sgdclassifierwrapper', SGDClassifierWrapper(alpha=7.5510448979591835, class_weight='balanced', eta0=0.001, fit_intercept=True, l1_ratio=0.42857142857142855, learning_rate='constant', loss='modified_huber', max_iter=1000, n_jobs=1, penalty='none', power_t=0.7777777777777777, random_state=None, tol=0.0001))], verbose=False))], meta_learner=LogisticRegressionCV(Cs=10, class_weight=None, cv=None, dual=False, fit_intercept=True, intercept_scaling=1.0, l1_ratios=None, max_iter=100, multi_class='auto', n_jobs=None, penalty='l2', random_state=None, refit=True, scoring=Scorer(metric='accuracy'), solver='lbfgs', tol=0.0001, verbose=0), training_cv_folds=5))],\n                                       'verbose': False},\n                             y_transformer={},\n                             y_transformer_name='LabelEncoder')"
          },
          "metadata": {}
        }
      ],
      "execution_count": 73,
      "metadata": {
        "jupyter": {
          "source_hidden": false,
          "outputs_hidden": false
        },
        "nteract": {
          "transient": {
            "deleting": false
          }
        },
        "gather": {
          "logged": 1678106652405
        }
      }
    },
    {
      "cell_type": "markdown",
      "source": [
        "## Model Deployment\n",
        "\n",
        "Remember you have to deploy only one of the two models you trained but you still need to register both the models. Perform the steps in the rest of this notebook only if you wish to deploy this model.\n",
        "\n",
        "TODO: In the cell below, register the model, create an inference config and deploy the model as a web service."
      ],
      "metadata": {}
    },
    {
      "cell_type": "code",
      "source": [
        "from azureml.core.model import InferenceConfig\n",
        "from azureml.core.webservice import AciWebservice\n",
        "from azureml.core import Environment\n",
        "from azureml.core.model import Model\n",
        "#inference_config = InferenceConfig(environment=env, source_directory='./source_dir', entry_script='./score.py')\n",
        "\n",
        "\n",
        "\n",
        "# from: \"https://learn.microsoft.com/en-us/azure/machine-learning/v1/how-to-deploy-and-where?tabs=python\"\n",
        "\n",
        "#env = Environment.get(workspace=ws, name=\"AzureML-AutoML\")\n",
        "from azureml.automl.core.shared import constants\n",
        "\n",
        "best_run.download_file(constants.CONDA_ENV_FILE_PATH, 'AutoML_env.yml') \n",
        "model_env = Environment.from_conda_specification(name=\"AutoML_env\", file_path=\"AutoML_env.yml\")\n",
        "#model_automl=Model(ws,'bestmodel_automl')\n",
        "\n",
        "service_name = 'bestmodel-service'\n",
        "\n",
        "inference_config = InferenceConfig(entry_script='score.py', environment=model_env)\n",
        "aci_config = AciWebservice.deploy_configuration(cpu_cores=1, memory_gb=1)\n",
        "#            ,enable_app_insights=True,auth_enabled=True)\n",
        "\n",
        "service = Model.deploy(workspace=ws,\n",
        "                       name=service_name,\n",
        "                       models=[saved_model],\n",
        "                       inference_config=inference_config,\n",
        "                       deployment_config=aci_config,\n",
        "                       overwrite=True)\n",
        "service.wait_for_deployment(show_output=True)\n",
        "\n"
      ],
      "outputs": [
        {
          "output_type": "stream",
          "name": "stdout",
          "text": "Tips: You can try get_logs(): https://aka.ms/debugimage#dockerlog or local deployment: https://aka.ms/debugimage#debug-locally to debug if deployment takes longer than 10 minutes.\nRunning\n2023-03-06 12:44:57+00:00 Creating Container Registry if not exists.\n2023-03-06 12:44:57+00:00 Registering the environment.\n2023-03-06 12:44:59+00:00 Use the existing image.\n2023-03-06 12:44:59+00:00 Generating deployment configuration.\n2023-03-06 12:45:00+00:00 Submitting deployment to compute.\n2023-03-06 12:45:08+00:00 Checking the status of deployment bestmodel-service..\n2023-03-06 12:47:25+00:00 Checking the status of inference endpoint bestmodel-service.\nSucceeded\nACI service creation operation finished, operation \"Succeeded\"\n"
        }
      ],
      "execution_count": 74,
      "metadata": {
        "gather": {
          "logged": 1678106894284
        },
        "jupyter": {
          "outputs_hidden": false,
          "source_hidden": false
        },
        "nteract": {
          "transient": {
            "deleting": false
          }
        }
      }
    },
    {
      "cell_type": "code",
      "source": [
        "print(service.get_logs())"
      ],
      "outputs": [
        {
          "output_type": "stream",
          "name": "stdout",
          "text": "/bin/bash: /azureml-envs/azureml_d1809f029ef68d0db142d99e1cd4a92c/lib/libtinfo.so.6: no version information available (required by /bin/bash)\n/bin/bash: /azureml-envs/azureml_d1809f029ef68d0db142d99e1cd4a92c/lib/libtinfo.so.6: no version information available (required by /bin/bash)\n/bin/bash: /azureml-envs/azureml_d1809f029ef68d0db142d99e1cd4a92c/lib/libtinfo.so.6: no version information available (required by /bin/bash)\n/bin/bash: /azureml-envs/azureml_d1809f029ef68d0db142d99e1cd4a92c/lib/libtinfo.so.6: no version information available (required by /bin/bash)\n2023-03-06T12:47:15,978091000+00:00 - iot-server/run \n2023-03-06T12:47:15,978091000+00:00 - rsyslog/run \n2023-03-06T12:47:15,988352800+00:00 - gunicorn/run \n2023-03-06T12:47:15,991823200+00:00 | gunicorn/run | \n2023-03-06T12:47:15,996741200+00:00 | gunicorn/run | ###############################################\n2023-03-06T12:47:16,000215600+00:00 | gunicorn/run | AzureML Container Runtime Information\n2023-03-06T12:47:16,002616000+00:00 | gunicorn/run | ###############################################\n2023-03-06T12:47:16,008560900+00:00 | gunicorn/run | \nbash: /azureml-envs/azureml_d1809f029ef68d0db142d99e1cd4a92c/lib/libtinfo.so.6: no version information available (required by bash)\n2023-03-06T12:47:16,012012300+00:00 | gunicorn/run | \n2023-03-06T12:47:16,036268700+00:00 | gunicorn/run | AzureML image information: openmpi4.1.0-ubuntu20.04, Materializaton Build:20221101.v11\n2023-03-06T12:47:16,039061000+00:00 | gunicorn/run | \n2023-03-06T12:47:16,046926800+00:00 | gunicorn/run | \n2023-03-06T12:47:16,052326600+00:00 - nginx/run \n2023-03-06T12:47:16,060341100+00:00 | gunicorn/run | PATH environment variable: /azureml-envs/azureml_d1809f029ef68d0db142d99e1cd4a92c/bin:/opt/miniconda/bin:/usr/local/sbin:/usr/local/bin:/usr/sbin:/usr/bin:/sbin:/bin\n2023-03-06T12:47:16,062369500+00:00 | gunicorn/run | PYTHONPATH environment variable: \n2023-03-06T12:47:16,067893400+00:00 | gunicorn/run | \n2023-03-06T12:47:16,071324300+00:00 | gunicorn/run | Pip Dependencies (before dynamic installation)\n\nEdgeHubConnectionString and IOTEDGE_IOTHUBHOSTNAME are not set. Exiting...\n/bin/bash: /azureml-envs/azureml_d1809f029ef68d0db142d99e1cd4a92c/lib/libtinfo.so.6: no version information available (required by /bin/bash)\n2023-03-06T12:47:17,782393744+00:00 - iot-server/finish 1 0\n2023-03-06T12:47:17,788939127+00:00 - Exit code 1 is normal. Not restarting iot-server.\nadal==1.2.7\napplicationinsights==0.11.10\nargcomplete==2.0.0\nattrs==22.2.0\nazure-common==1.1.28\nazure-core==1.26.3\nazure-graphrbac==0.61.1\nazure-identity==1.12.0\nazure-mgmt-authorization==3.0.0\nazure-mgmt-containerregistry==10.1.0\nazure-mgmt-core==1.3.2\nazure-mgmt-keyvault==10.1.0\nazure-mgmt-resource==21.2.1\nazure-mgmt-storage==20.1.0\nazure-storage-blob==12.13.0\nazure-storage-queue==12.6.0\nazureml-automl-core==1.48.0\nazureml-automl-runtime==1.48.0.post2\nazureml-core==1.48.0\nazureml-dataprep==4.8.6\nazureml-dataprep-native==38.0.0\nazureml-dataprep-rslex==2.15.2\nazureml-dataset-runtime==1.48.0\nazureml-defaults==1.48.0\nazureml-inference-server-http==0.7.7\nazureml-interpret==1.48.0\nazureml-mlflow==1.48.0\nazureml-telemetry==1.48.0\nazureml-train-automl-client==1.48.0\nazureml-train-automl-runtime==1.48.0.post1\nazureml-train-core==1.48.0\nazureml-train-restclients-hyperdrive==1.48.0\nazureml-training-tabular==1.48.0\nbackports.tempfile==1.0\nbackports.weakref==1.0.post1\nbcrypt==4.0.1\nbokeh==2.4.3\nboto==2.49.0\nboto3==1.20.19\nbotocore==1.23.19\ncachetools==5.3.0\ncertifi @ file:///croot/certifi_1671487769961/work/certifi\ncffi==1.15.1\ncharset-normalizer==3.0.1\nclick==8.1.3\ncloudpickle==2.2.1\ncontextlib2==21.6.0\nconvertdate @ file:///tmp/build/80754af9/convertdate_1634070773133/work\ncryptography==38.0.4\ncycler @ file:///tmp/build/80754af9/cycler_1637851556182/work\nCython==0.29.17\ndask==2021.6.0\ndatabricks-cli==0.17.4\ndataclasses==0.6\ndill==0.3.6\ndistributed==2021.6.0\ndistro==1.8.0\ndocker==6.0.1\ndotnetcore2==3.1.23\nentrypoints==0.4\nephem @ file:///tmp/build/80754af9/ephem_1638960312619/work\nfbprophet @ file:///home/conda/feedstock_root/build_artifacts/fbprophet_1599365534439/work\nfire==0.5.0\nFlask==2.2.3\nFlask-Cors==3.0.10\nflatbuffers==23.3.3\nflit_core @ file:///opt/conda/conda-bld/flit-core_1644941570762/work/source/flit_core\nfonttools==4.25.0\nfsspec==2023.1.0\nfusepy==3.0.1\ngensim==3.8.3\ngitdb==4.0.10\nGitPython==3.1.31\ngoogle-api-core==2.11.0\ngoogle-auth==2.16.2\ngoogleapis-common-protos==1.58.0\ngunicorn==20.1.0\nHeapDict==1.0.1\nholidays @ file:///home/conda/feedstock_root/build_artifacts/holidays_1595448845196/work\nhumanfriendly==10.0\nidna==3.4\nimportlib-metadata==4.13.0\nimportlib-resources==5.12.0\ninference-schema==1.5.1\ninterpret-community==0.27.0\ninterpret-core==0.2.7\nisodate==0.6.1\nitsdangerous==2.1.2\njeepney==0.8.0\nJinja2==3.1.2\njmespath==0.10.0\njoblib==0.14.1\njsonpickle==2.2.0\njsonschema==4.17.3\nkeras2onnx==1.6.0\nkiwisolver @ file:///croot/kiwisolver_1672387140495/work\nknack==0.10.1\nkorean-lunar-calendar @ file:///tmp/build/80754af9/korean_lunar_calendar_1634063020401/work\nlightgbm==3.2.1\nllvmlite==0.38.1\nlocket==1.0.0\nLunarCalendar @ file:///tmp/build/80754af9/lunarcalendar_1646383991234/work\nMarkupSafe==2.1.2\nmatplotlib @ file:///croot/matplotlib-suite_1667356714455/work\nml-wrappers==0.2.2\nmlflow-skinny==1.30.0\nmsal==1.21.0\nmsal-extensions==1.0.0\nmsgpack==1.0.4\nmsrest==0.7.1\nmsrestazure==0.6.4\nmunkres==1.1.4\nndg-httpsclient==0.5.1\nnimbusml==1.8.0\nnumba==0.55.2\nnumpy @ file:///home/conda/feedstock_root/build_artifacts/numpy_1649806299270/work\noauthlib==3.2.2\nonnx==1.12.0\nonnxconverter-common==1.6.0\nonnxmltools==1.4.1\nonnxruntime==1.11.1\nopencensus==0.11.1\nopencensus-context==0.1.3\nopencensus-ext-azure==1.1.8\npackaging==21.3\npandas==1.1.5\nparamiko==2.12.0\npartd==1.3.0\npathspec==0.11.0\npatsy==0.5.3\nPillow==9.3.0\npkginfo==1.9.6\npkgutil_resolve_name==1.3.10\nply==3.11\npmdarima==1.7.1\nportalocker==2.7.0\nprotobuf==3.19.6\npsutil @ file:///home/conda/feedstock_root/build_artifacts/psutil_1666155398032/work\npyarrow==9.0.0\npyasn1==0.4.8\npyasn1-modules==0.2.8\npycparser==2.21\nPygments==2.14.0\nPyJWT==2.6.0\nPyMeeus @ file:///tmp/build/80754af9/pymeeus_1634069098549/work\nPyNaCl==1.5.0\npyOpenSSL==22.1.0\npyparsing @ file:///opt/conda/conda-bld/pyparsing_1661452539315/work\nPyQt5-sip==12.11.0\npyrsistent==0.19.3\nPySocks==1.7.1\npystan==2.17.1.0\npython-dateutil @ file:///tmp/build/80754af9/python-dateutil_1626374649649/work\npytz @ file:///croot/pytz_1671697431263/work\nPyYAML==6.0\nrequests==2.28.2\nrequests-oauthlib==1.3.1\nrsa==4.9\ns3transfer==0.5.2\nscikit-learn==0.22.1\nscipy==1.5.3\nSecretStorage==3.3.3\nshap==0.39.0\nsip @ file:///tmp/abs_44cd77b_pu/croots/recipe/sip_1659012365470/work\nsix @ file:///tmp/build/80754af9/six_1644875935023/work\nskl2onnx==1.4.9\nsklearn-pandas==1.7.0\nslicer==0.0.7\nsmart-open==1.9.0\nsmmap==5.0.0\nsortedcontainers==2.4.0\nsqlparse==0.4.3\nstatsmodels==0.11.1\ntabulate==0.9.0\ntblib==1.7.0\ntermcolor==2.2.0\ntoml @ file:///tmp/build/80754af9/toml_1616166611790/work\ntoolz==0.12.0\ntornado @ file:///opt/conda/conda-bld/tornado_1662061693373/work\ntqdm @ file:///opt/conda/conda-bld/tqdm_1664392687731/work\ntyping_extensions @ file:///croot/typing_extensions_1669924550328/work\nurllib3==1.26.14\nwebsocket-client==1.5.1\nWerkzeug==2.2.3\nwrapt==1.12.1\nxgboost==1.3.3\nzict==2.2.0\nzipp==3.15.0\n\n2023-03-06T12:47:21,755774359+00:00 | gunicorn/run | \n2023-03-06T12:47:21,761984194+00:00 | gunicorn/run | ###############################################\n2023-03-06T12:47:21,763713976+00:00 | gunicorn/run | AzureML Inference Server\n2023-03-06T12:47:21,765305160+00:00 | gunicorn/run | ###############################################\n2023-03-06T12:47:21,773029579+00:00 | gunicorn/run | \n2023-03-06T12:47:25,909701357+00:00 | gunicorn/run | Starting AzureML Inference Server HTTP.\n\nAzure ML Inferencing HTTP server v0.7.7\n\n\nServer Settings\n---------------\nEntry Script Name: /var/azureml-app/score.py\nModel Directory: /var/azureml-app/azureml-models/bestmodel_all/5\nWorker Count: 1\nWorker Timeout (seconds): 300\nServer Port: 31311\nApplication Insights Enabled: false\nApplication Insights Key: None\nInferencing HTTP server version: azmlinfsrv/0.7.7\nCORS for the specified origins: None\n\n\nServer Routes\n---------------\nLiveness Probe: GET   127.0.0.1:31311/\nScore:          POST  127.0.0.1:31311/score\n\nStarting gunicorn 20.1.0\nListening at: http://0.0.0.0:31311 (77)\nUsing worker: sync\nBooting worker with pid: 143\nInitializing logger\n2023-03-06 12:47:29,194 | root | INFO | Starting up app insights client\nlogging socket was found. logging is available.\nlogging socket was found. logging is available.\n2023-03-06 12:47:29,195 | root | INFO | Starting up app insight hooks\n2023-03-06 12:47:40,552 | root | INFO | Found user script at /var/azureml-app/score.py\n2023-03-06 12:47:40,553 | root | INFO | run() is not decorated. Server will invoke it with the input in JSON string.\n2023-03-06 12:47:40,553 | root | INFO | Invoking user's init function\ngenerated new fontManager\nImporting plotly failed. Interactive plots will not work.\nInit complete\n2023-03-06 12:48:00,577 | root | INFO | Users's init has completed successfully\n2023-03-06 12:48:00,584 | root | INFO | Swaggers are prepared for the following versions: [2, 3].\n2023-03-06 12:48:00,585 | root | INFO | Scoring timeout is found from os.environ: 60000 ms\n2023-03-06 12:48:00,586 | root | INFO | AML_FLASK_ONE_COMPATIBILITY is set. Patched Flask to ensure compatibility with Flask 1.\n2023-03-06 12:48:12,478 | root | INFO | 200\n127.0.0.1 - - [06/Mar/2023:12:48:12 +0000] \"GET /swagger.json HTTP/1.0\" 200 2267 \"-\" \"Go-http-client/1.1\"\n2023-03-06 12:48:14,141 | root | INFO | 200\n127.0.0.1 - - [06/Mar/2023:12:48:14 +0000] \"GET /swagger.json HTTP/1.0\" 200 2267 \"-\" \"Go-http-client/1.1\"\n\n"
        }
      ],
      "execution_count": 75,
      "metadata": {
        "jupyter": {
          "source_hidden": false,
          "outputs_hidden": false
        },
        "nteract": {
          "transient": {
            "deleting": false
          }
        },
        "gather": {
          "logged": 1678106898946
        }
      }
    },
    {
      "cell_type": "code",
      "source": [
        "from azureml.core.webservice import LocalWebservice\n",
        "port=9000\n",
        "deployment_config = LocalWebservice.deploy_configuration(port=port)"
      ],
      "outputs": [],
      "execution_count": 76,
      "metadata": {
        "jupyter": {
          "source_hidden": false,
          "outputs_hidden": false
        },
        "nteract": {
          "transient": {
            "deleting": false
          }
        },
        "gather": {
          "logged": 1678106900055
        }
      }
    },
    {
      "cell_type": "markdown",
      "source": [
        "TODO: In the cell below, send a request to the web service you deployed to test it."
      ],
      "metadata": {
        "collapsed": true,
        "gather": {
          "logged": 1598431657736
        },
        "jupyter": {
          "outputs_hidden": false,
          "source_hidden": false
        },
        "nteract": {
          "transient": {
            "deleting": false
          }
        }
      }
    },
    {
      "cell_type": "code",
      "source": [
        "\n",
        "dict(df_rain.iloc[2])"
      ],
      "outputs": [
        {
          "output_type": "execute_result",
          "execution_count": 77,
          "data": {
            "text/plain": "{'Date': Timestamp('2008-12-03 00:00:00'),\n 'Location': 'Albury',\n 'MinTemp': 12.9,\n 'MaxTemp': 25.7,\n 'Rainfall': '0',\n 'Evaporation': 'NA',\n 'Sunshine': 'NA',\n 'WindGustDir': 'WSW',\n 'WindGustSpeed': '46',\n 'WindDir9am': 'W',\n 'WindDir3pm': 'WSW',\n 'WindSpeed9am': '19',\n 'WindSpeed3pm': '26',\n 'Humidity9am': 38.0,\n 'Humidity3pm': 30.0,\n 'Pressure9am': 1007.6,\n 'Pressure3pm': 1008.7,\n 'Cloud9am': 'NA',\n 'Cloud3pm': '2',\n 'Temp9am': 21.0,\n 'Temp3pm': 23.2,\n 'RainToday': 'No',\n 'RainTomorrow': 'No'}"
          },
          "metadata": {}
        }
      ],
      "execution_count": 77,
      "metadata": {
        "jupyter": {
          "source_hidden": false,
          "outputs_hidden": false
        },
        "nteract": {
          "transient": {
            "deleting": false
          }
        },
        "gather": {
          "logged": 1678106902085
        }
      }
    },
    {
      "cell_type": "code",
      "source": [
        "df_rain['Date'].astype(str).iloc[2]"
      ],
      "outputs": [
        {
          "output_type": "execute_result",
          "execution_count": 78,
          "data": {
            "text/plain": "'2008-12-03'"
          },
          "metadata": {}
        }
      ],
      "execution_count": 78,
      "metadata": {
        "jupyter": {
          "source_hidden": false,
          "outputs_hidden": false
        },
        "nteract": {
          "transient": {
            "deleting": false
          }
        },
        "gather": {
          "logged": 1678106903921
        }
      }
    },
    {
      "cell_type": "code",
      "source": [
        "#data = json.dumps({\"data\":df_rain[:5].drop(['y'], axis=1)})\n",
        "#service.run(data)\n"
      ],
      "outputs": [],
      "execution_count": 79,
      "metadata": {
        "jupyter": {
          "source_hidden": false,
          "outputs_hidden": false
        },
        "nteract": {
          "transient": {
            "deleting": false
          }
        },
        "gather": {
          "logged": 1678106905317
        }
      }
    },
    {
      "cell_type": "code",
      "source": [
        "Timestamp('2008-12-03 00:00:00').strftime('%Y%m%d%H%M%S')\n"
      ],
      "outputs": [
        {
          "output_type": "execute_result",
          "execution_count": 80,
          "data": {
            "text/plain": "'20081203000000'"
          },
          "metadata": {}
        }
      ],
      "execution_count": 80,
      "metadata": {
        "jupyter": {
          "source_hidden": false,
          "outputs_hidden": false
        },
        "nteract": {
          "transient": {
            "deleting": false
          }
        },
        "gather": {
          "logged": 1678106906338
        }
      }
    },
    {
      "cell_type": "code",
      "source": [
        "service.token_auth_enabled"
      ],
      "outputs": [
        {
          "output_type": "execute_result",
          "execution_count": 81,
          "data": {
            "text/plain": "False"
          },
          "metadata": {}
        }
      ],
      "execution_count": 81,
      "metadata": {
        "jupyter": {
          "source_hidden": false,
          "outputs_hidden": false
        },
        "nteract": {
          "transient": {
            "deleting": false
          }
        },
        "gather": {
          "logged": 1678106907543
        }
      }
    },
    {
      "cell_type": "code",
      "source": [
        "import requests\n",
        "import json\n",
        "from pandas import Timestamp\n",
        "uri = service.scoring_uri\n",
        "#requests.get(\"http://localhost:\"+str(port))\n",
        "headers = {\"Content-Type\": \"application/json\"}\n",
        "data = {\"data\":\n",
        "[{'Date': '2008-12-03',\n",
        " 'Location': 'Albury',\n",
        " 'MinTemp': 12.9,\n",
        " 'MaxTemp': 25.7,\n",
        " 'Rainfall': '0',\n",
        " 'Evaporation': 10,\n",
        " 'Sunshine': 2,\n",
        " 'WindGustDir': 'WSW',\n",
        " 'WindGustSpeed': '46',\n",
        " 'WindDir9am': 'W',\n",
        " 'WindDir3pm': 'WSW',\n",
        " 'WindSpeed9am': '19',\n",
        " 'WindSpeed3pm': '26',\n",
        " 'Humidity9am': 38.0,\n",
        " 'Humidity3pm': 30.0,\n",
        " 'Pressure9am': 1007.6,\n",
        " 'Pressure3pm': 1008.7,\n",
        " 'Cloud9am': 31,\n",
        " 'Cloud3pm': '2',\n",
        " 'Temp9am': 21.0,\n",
        " 'Temp3pm': 23.2,\n",
        " 'RainToday': 'No'},{'Date': '2008-12-03',\n",
        " 'Location': 'Albury',\n",
        " 'MinTemp': 22.9,\n",
        " 'MaxTemp': 45.7,\n",
        " 'Rainfall': '0',\n",
        " 'Evaporation': 20,\n",
        " 'Sunshine': 10,\n",
        " 'WindGustDir': 'WSW',\n",
        " 'WindGustSpeed': '46',\n",
        " 'WindDir9am': 'W',\n",
        " 'WindDir3pm': 'WSW',\n",
        " 'WindSpeed9am': '19',\n",
        " 'WindSpeed3pm': '26',\n",
        " 'Humidity9am': 38.0,\n",
        " 'Humidity3pm': 30.0,\n",
        " 'Pressure9am': 1207.6,\n",
        " 'Pressure3pm': 1108.7,\n",
        " 'Cloud9am': '2',\n",
        " 'Cloud3pm': '2',\n",
        " 'Temp9am': 21.0,\n",
        " 'Temp3pm': 23.2,\n",
        " 'RainToday': 'No'}]}\n",
        "data_test = json.dumps(data['data'])\n",
        "response = requests.post(uri, data=data_test, headers=headers)\n",
        "print(response.text)"
      ],
      "outputs": [
        {
          "output_type": "stream",
          "name": "stdout",
          "text": "[\"No\", \"No\"]\n"
        }
      ],
      "execution_count": 82,
      "metadata": {
        "gather": {
          "logged": 1678106908540
        },
        "jupyter": {
          "outputs_hidden": false,
          "source_hidden": false
        },
        "nteract": {
          "transient": {
            "deleting": false
          }
        }
      }
    },
    {
      "cell_type": "code",
      "source": [
        "import json\n",
        "\n",
        "data = df_rain[:5].drop(['RainTomorrow'], axis=1).to_json(orient='records')\n",
        "service.run(data)"
      ],
      "outputs": [
        {
          "output_type": "execute_result",
          "execution_count": 83,
          "data": {
            "text/plain": "['No', 'No', 'No', 'No', 'No']"
          },
          "metadata": {}
        }
      ],
      "execution_count": 83,
      "metadata": {
        "jupyter": {
          "source_hidden": false,
          "outputs_hidden": false
        },
        "nteract": {
          "transient": {
            "deleting": false
          }
        },
        "gather": {
          "logged": 1678106912440
        }
      }
    },
    {
      "cell_type": "code",
      "source": [
        "uri"
      ],
      "outputs": [
        {
          "output_type": "execute_result",
          "execution_count": 53,
          "data": {
            "text/plain": "'http://c6c55eb5-e54b-42f1-a896-2eb8671851a0.brazilsouth.azurecontainer.io/score'"
          },
          "metadata": {}
        }
      ],
      "execution_count": 53,
      "metadata": {
        "jupyter": {
          "source_hidden": false,
          "outputs_hidden": false
        },
        "nteract": {
          "transient": {
            "deleting": false
          }
        },
        "gather": {
          "logged": 1678105747252
        }
      }
    },
    {
      "cell_type": "code",
      "source": [
        "import numpy as np\n",
        "import pandas as pd\n",
        "print(np.array(json.loads(data_test)))\n",
        "m1.predict(pd.DataFrame.from_dict(json.loads(data_test))).tolist()"
      ],
      "outputs": [
        {
          "output_type": "stream",
          "name": "stdout",
          "text": "[{'Date': '2008-12-03', 'Location': 'Albury', 'MinTemp': 12.9, 'MaxTemp': 25.7, 'Rainfall': '0', 'Evaporation': 10, 'Sunshine': 2, 'WindGustDir': 'WSW', 'WindGustSpeed': '46', 'WindDir9am': 'W', 'WindDir3pm': 'WSW', 'WindSpeed9am': '19', 'WindSpeed3pm': '26', 'Humidity9am': 38.0, 'Humidity3pm': 30.0, 'Pressure9am': 1007.6, 'Pressure3pm': 1008.7, 'Cloud9am': 31, 'Cloud3pm': '2', 'Temp9am': 21.0, 'Temp3pm': 23.2, 'RainToday': 'No'}\n {'Date': '2008-12-03', 'Location': 'Albury', 'MinTemp': 22.9, 'MaxTemp': 45.7, 'Rainfall': '0', 'Evaporation': 20, 'Sunshine': 10, 'WindGustDir': 'WSW', 'WindGustSpeed': '46', 'WindDir9am': 'W', 'WindDir3pm': 'WSW', 'WindSpeed9am': '19', 'WindSpeed3pm': '26', 'Humidity9am': 38.0, 'Humidity3pm': 30.0, 'Pressure9am': 1207.6, 'Pressure3pm': 1108.7, 'Cloud9am': '2', 'Cloud3pm': '2', 'Temp9am': 21.0, 'Temp3pm': 23.2, 'RainToday': 'No'}]\n"
        },
        {
          "output_type": "execute_result",
          "execution_count": 60,
          "data": {
            "text/plain": "['No', 'No']"
          },
          "metadata": {}
        }
      ],
      "execution_count": 60,
      "metadata": {
        "jupyter": {
          "source_hidden": false,
          "outputs_hidden": false
        },
        "nteract": {
          "transient": {
            "deleting": false
          }
        },
        "gather": {
          "logged": 1678106340569
        }
      }
    },
    {
      "cell_type": "code",
      "source": [
        "uri"
      ],
      "outputs": [
        {
          "output_type": "execute_result",
          "execution_count": 68,
          "data": {
            "text/plain": "'http://97066473-954f-44d5-bbad-5a14f78fb753.brazilsouth.azurecontainer.io/score'"
          },
          "metadata": {}
        }
      ],
      "execution_count": 68,
      "metadata": {
        "jupyter": {
          "source_hidden": false,
          "outputs_hidden": false
        },
        "nteract": {
          "transient": {
            "deleting": false
          }
        },
        "gather": {
          "logged": 1678035306292
        }
      }
    },
    {
      "cell_type": "markdown",
      "source": [
        "TODO: In the cell below, print the logs of the web service and delete the service"
      ],
      "metadata": {
        "collapsed": true,
        "gather": {
          "logged": 1598432765711
        },
        "jupyter": {
          "outputs_hidden": false,
          "source_hidden": false
        },
        "nteract": {
          "transient": {
            "deleting": false
          }
        }
      }
    },
    {
      "cell_type": "code",
      "source": [
        "service.delete()"
      ],
      "outputs": [],
      "execution_count": 84,
      "metadata": {
        "jupyter": {
          "outputs_hidden": false,
          "source_hidden": false
        },
        "nteract": {
          "transient": {
            "deleting": false
          }
        },
        "gather": {
          "logged": 1678107879864
        }
      }
    },
    {
      "cell_type": "code",
      "source": [
        "#cpu_cluster.delete()"
      ],
      "outputs": [],
      "execution_count": null,
      "metadata": {}
    },
    {
      "cell_type": "markdown",
      "source": [
        "**Submission Checklist**\n",
        "- I have registered the model.\n",
        "- I have deployed the model with the best accuracy as a webservice.\n",
        "- I have tested the webservice by sending a request to the model endpoint.\n",
        "- I have deleted the webservice and shutdown all the computes that I have used.\n",
        "- I have taken a screenshot showing the model endpoint as active.\n",
        "- The project includes a file containing the environment details.\n"
      ],
      "metadata": {}
    },
    {
      "cell_type": "markdown",
      "source": [],
      "metadata": {}
    }
  ],
  "metadata": {
    "kernel_info": {
      "name": "python38-azureml"
    },
    "kernelspec": {
      "name": "python38-azureml",
      "language": "python",
      "display_name": "Python 3.8 - AzureML"
    },
    "language_info": {
      "name": "python",
      "version": "3.8.10",
      "mimetype": "text/x-python",
      "codemirror_mode": {
        "name": "ipython",
        "version": 3
      },
      "pygments_lexer": "ipython3",
      "nbconvert_exporter": "python",
      "file_extension": ".py"
    },
    "nteract": {
      "version": "nteract-front-end@1.0.0"
    },
    "microsoft": {
      "ms_spell_check": {
        "ms_spell_check_language": "en"
      },
      "host": {
        "AzureML": {
          "notebookHasBeenCompleted": true
        }
      }
    }
  },
  "nbformat": 4,
  "nbformat_minor": 2
}